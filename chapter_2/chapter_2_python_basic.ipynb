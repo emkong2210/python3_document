{
 "cells": [
  {
   "cell_type": "markdown",
   "metadata": {},
   "source": [
    "# 파이썬 문과 기본 자료형\n",
    "파이썬의 전체적인 면을 간략하게 알아본다. \n",
    "> *개발 경험이 많은 개발자라면 본 챕터만 봐도 프로그램을 작성할 수 있을 것이다.*\n",
    "\n",
    "***\n",
    "\n",
    "## 변수 이름 짓기\n",
    "\n",
    "### 규칙\n",
    "* 유니코드 문자나 밑줄(_)로 시작해야 한다.\n",
    "* 이름에 공백이 없어야 한다.\n",
    "* 아스키코드의 특수 문자는 사용할 수 없다.\n",
    "* 예약어가 아니어야 한다.\n",
    "\n",
    "#### 가능한 변수 이름\n",
    "```{.python}\n",
    "a, a123, my_name, MyName, _private, __b\n",
    "```\n",
    "\n",
    "#### 규칙을 어긋난 변수 이름들을 사용시 에러"
   ]
  },
  {
   "cell_type": "code",
   "execution_count": 1,
   "metadata": {
    "collapsed": false
   },
   "outputs": [
    {
     "ename": "SyntaxError",
     "evalue": "invalid syntax (<ipython-input-1-ef42fedc3d6c>, line 2)",
     "output_type": "error",
     "traceback": [
      "\u001b[0;36m  File \u001b[0;32m\"<ipython-input-1-ef42fedc3d6c>\"\u001b[0;36m, line \u001b[0;32m2\u001b[0m\n\u001b[0;31m    1abc = 'hello world'\u001b[0m\n\u001b[0m       ^\u001b[0m\n\u001b[0;31mSyntaxError\u001b[0m\u001b[0;31m:\u001b[0m invalid syntax\n"
     ]
    }
   ],
   "source": [
    "# 숫자를 변수명을 시작했을때 \n",
    "1abc = 'hello world' "
   ]
  },
  {
   "cell_type": "code",
   "execution_count": 2,
   "metadata": {
    "collapsed": false
   },
   "outputs": [
    {
     "ename": "SyntaxError",
     "evalue": "invalid syntax (<ipython-input-2-99dfeffdb70a>, line 2)",
     "output_type": "error",
     "traceback": [
      "\u001b[0;36m  File \u001b[0;32m\"<ipython-input-2-99dfeffdb70a>\"\u001b[0;36m, line \u001b[0;32m2\u001b[0m\n\u001b[0;31m    ab c = 'hello world'\u001b[0m\n\u001b[0m       ^\u001b[0m\n\u001b[0;31mSyntaxError\u001b[0m\u001b[0;31m:\u001b[0m invalid syntax\n"
     ]
    }
   ],
   "source": [
    "# 변수명에 공백이 있을시\n",
    "ab c = 'hello world' "
   ]
  },
  {
   "cell_type": "code",
   "execution_count": 3,
   "metadata": {
    "collapsed": false
   },
   "outputs": [
    {
     "ename": "SyntaxError",
     "evalue": "invalid character in identifier (<ipython-input-3-0aba25d81ead>, line 2)",
     "output_type": "error",
     "traceback": [
      "\u001b[0;36m  File \u001b[0;32m\"<ipython-input-3-0aba25d81ead>\"\u001b[0;36m, line \u001b[0;32m2\u001b[0m\n\u001b[0;31m    😀 = 'hello world'\u001b[0m\n\u001b[0m    ^\u001b[0m\n\u001b[0;31mSyntaxError\u001b[0m\u001b[0;31m:\u001b[0m invalid character in identifier\n"
     ]
    }
   ],
   "source": [
    "# 이모티콘을 사용시\n",
    "😀 = 'hello world' "
   ]
  },
  {
   "cell_type": "code",
   "execution_count": 4,
   "metadata": {
    "collapsed": false
   },
   "outputs": [
    {
     "ename": "SyntaxError",
     "evalue": "invalid syntax (<ipython-input-4-2f1bce231ecf>, line 2)",
     "output_type": "error",
     "traceback": [
      "\u001b[0;36m  File \u001b[0;32m\"<ipython-input-4-2f1bce231ecf>\"\u001b[0;36m, line \u001b[0;32m2\u001b[0m\n\u001b[0;31m    if = 'hello world'\u001b[0m\n\u001b[0m       ^\u001b[0m\n\u001b[0;31mSyntaxError\u001b[0m\u001b[0;31m:\u001b[0m invalid syntax\n"
     ]
    }
   ],
   "source": [
    "# 예약어 사용시\n",
    "if = 'hello world'"
   ]
  },
  {
   "cell_type": "markdown",
   "metadata": {},
   "source": [
    "#### 한글 변수 이름 사용이 가능"
   ]
  },
  {
   "cell_type": "code",
   "execution_count": 5,
   "metadata": {
    "collapsed": false
   },
   "outputs": [
    {
     "name": "stdout",
     "output_type": "stream",
     "text": [
      "평균 점수는 61 점 입니다.\n"
     ]
    }
   ],
   "source": [
    "수학 = 70\n",
    "국어 = 85\n",
    "영어 = 30\n",
    "평균 = (수학 + 국어 + 영어) / 3\n",
    "print('평균 점수는 %d 점 입니다.' % (평균))"
   ]
  },
  {
   "cell_type": "markdown",
   "metadata": {},
   "source": [
    "***\"한글 변수 사용에 대한 의견은 개발자 마다 의견이 다르다. 아래는 본인이 한글로 만든 코드와 커뮤니티에 올린 후의 반응들이다.\"***\n",
    "![한글코드](pics/korean_var_name.jpg) \n",
    "> *\"재미삼아 해보는 것까지야 문제 없겠지만.. 장난이상으로 하지는 마시길..\"*\n",
    "\n",
    "> *\"누가 보고 따라할까 두렵습니다 ㄷㄷ\"*\n",
    "\n",
    "> *\"굳이 안될 것도 없지 싶어요 ㅎㅎㅎ\"*\n",
    "\n",
    "> *\"그냥 중국어로 된 코드나 , 태국어, 또는 아랍어로 된 코드를 보시는 느낌이 어떨지 생각해 보시면 됩니다. ;;\"*\n",
    "\n",
    "> *\"명확해서 좋아보이는군요.\"*\n",
    "\n",
    "> *\"테스트 코드에 한글 많이 쓰고 있습니다. 현실적으로 (이를테면 커밋 메시지나 이슈 트래커, 위키, 메일까지 모두 영어로 커뮤니케이션 하는 회사가 아니라면) 어설픈 영어 표현이나 애매한 네이밍보다 충분히 효율적인 경우가 많다고 보고요.\"*"
   ]
  },
  {
   "cell_type": "markdown",
   "metadata": {},
   "source": [
    "### 파이썬에서 이미 사용하고 있는 예약어를 확인해 보는 방법\n",
    "아래 코드의 결과물로 나오는 키워드들은 변수나 함수명으로 사용할 수 없다."
   ]
  },
  {
   "cell_type": "code",
   "execution_count": 6,
   "metadata": {
    "collapsed": false
   },
   "outputs": [
    {
     "name": "stdout",
     "output_type": "stream",
     "text": [
      "['False', 'None', 'True', 'and', 'as', 'assert', 'break', 'class', 'continue', 'def', 'del', 'elif', 'else', 'except', 'finally', 'for', 'from', 'global', 'if', 'import', 'in', 'is', 'lambda', 'nonlocal', 'not', 'or', 'pass', 'raise', 'return', 'try', 'while', 'with', 'yield']\n"
     ]
    }
   ],
   "source": [
    "import keyword\n",
    "print(keyword.kwlist) # 키워드 목록을 보여준다 "
   ]
  },
  {
   "cell_type": "markdown",
   "metadata": {},
   "source": [
    "### 변수 이름이 이미 사용중인 내장 함수의 이름이나 모듈 이름일 경우\n",
    "사용중인 내장 함수는 해당 객체가 지워저기 전까지 사용할 수 없게 된다."
   ]
  },
  {
   "cell_type": "code",
   "execution_count": 7,
   "metadata": {
    "collapsed": false
   },
   "outputs": [
    {
     "data": {
      "text/plain": [
       "'20140416'"
      ]
     },
     "execution_count": 7,
     "metadata": {},
     "output_type": "execute_result"
    }
   ],
   "source": [
    "str(20140416) # str() 함수는 정수를 문자열로 변환한다."
   ]
  },
  {
   "cell_type": "code",
   "execution_count": 8,
   "metadata": {
    "collapsed": false
   },
   "outputs": [
    {
     "ename": "TypeError",
     "evalue": "'str' object is not callable",
     "output_type": "error",
     "traceback": [
      "\u001b[0;31m---------------------------------------------------------------------------\u001b[0m",
      "\u001b[0;31mTypeError\u001b[0m                                 Traceback (most recent call last)",
      "\u001b[0;32m<ipython-input-8-d2bf98f1d99e>\u001b[0m in \u001b[0;36m<module>\u001b[0;34m()\u001b[0m\n\u001b[1;32m      1\u001b[0m \u001b[0mstr\u001b[0m \u001b[0;34m=\u001b[0m \u001b[0;34m'hello world'\u001b[0m \u001b[0;31m# 이제 str은 함수가 아니라 '문자열 변수'이다.\u001b[0m\u001b[0;34m\u001b[0m\u001b[0m\n\u001b[0;32m----> 2\u001b[0;31m \u001b[0mstr\u001b[0m\u001b[0;34m(\u001b[0m\u001b[0;36m20140416\u001b[0m\u001b[0;34m)\u001b[0m \u001b[0;31m#  현재 str은 문자열 변수 이다.\u001b[0m\u001b[0;34m\u001b[0m\u001b[0m\n\u001b[0m",
      "\u001b[0;31mTypeError\u001b[0m: 'str' object is not callable"
     ]
    }
   ],
   "source": [
    "str = 'hello world' # 이제 str은 함수가 아니라 '문자열 변수'이다.\n",
    "str(20140416) #  현재 str은 문자열 변수 이다."
   ]
  },
  {
   "cell_type": "code",
   "execution_count": 9,
   "metadata": {
    "collapsed": false
   },
   "outputs": [
    {
     "data": {
      "text/plain": [
       "'20140406'"
      ]
     },
     "execution_count": 9,
     "metadata": {},
     "output_type": "execute_result"
    }
   ],
   "source": [
    "del str # 문자열 변수 str을 제거한다.\n",
    "str(20140406) # 원래의 str 함수를 사용할 수 있게 되었다."
   ]
  },
  {
   "cell_type": "markdown",
   "metadata": {},
   "source": [
    "---\n",
    "## 파이썬 기초문\n",
    "\n",
    "### 주석\n",
    "주석(Comment)은 코드를 설명하는 내용이나 참고할 사항 등을 코드 내에 기술하기 위해 사용. 프로그램의 실행에는 전혀 영향을 미치지 않는다.\n",
    "\n",
    "파이썬 PEP08 코드 스타일 가이드에서 주석문에 관한 내용을 몇 가지 뽑아봤다.\n",
    "\n",
    "> 코드의 내용과 동떨어진 주석이 있는 것보다는 아예 주석이 없는 편이 낫\n",
    "다.  주석은 항상 코드의 변경에 맞추어 최신의 상태를 유지하도록 한다.\n",
    "\n",
    ">> *아래는 몇 년전, 본인이 작성한 '주석이 코드 내용과 동떨어진, 아예 없는 편이 낫다.'의 경우*\n",
    ">> ![한글코드](pics/bad_comment.jpg) \n",
    "\n",
    "> 인라인 주석문은 아껴서 사용한다.\n",
    "\n",
    "> 인라인 주석문은 코드와 동일한 행에 기술되는 주석문이다.  인라인 주석\n",
    "문은 코드에서 최소한 두 개 이상의 공백으로 분리되어 있어야 한다.  주\n",
    "석문은 # 문자와 한 개의 공백으로 시작해야 한다.\n",
    "\n",
    "> 뻔한 내용의 인라인 주석문은 불필요하며, 사실 방해물이라 할 수 있다.\n",
    "이런 주석문은 피하자::\n",
    "\n",
    "> `x = x + 1                 # x의 증가`\n",
    "\n",
    "> 하지만 이런 주석문은 유용할 때가 있다::\n",
    "\n",
    "> `x = x + 1                 # 경계값에 대한 보상`\n"
   ]
  },
  {
   "cell_type": "markdown",
   "metadata": {},
   "source": [
    "### 여러 줄을 한 줄로 잇기\n",
    "코드를 한 줄에 적어야 하지만 그렇게 하지 못하는 경우 \\ 를 사용한다."
   ]
  },
  {
   "cell_type": "code",
   "execution_count": 10,
   "metadata": {
    "collapsed": false
   },
   "outputs": [
    {
     "name": "stdout",
     "output_type": "stream",
     "text": [
      "connected lines\n"
     ]
    }
   ],
   "source": [
    "a = 1\n",
    "b = 3\n",
    "if (a == 1) and \\\n",
    "(b == 3):\n",
    "    print('connected lines')"
   ]
  },
  {
   "cell_type": "markdown",
   "metadata": {},
   "source": [
    "#### 한 줄 잇기가 제대로 되지 않았을 경우의 에러"
   ]
  },
  {
   "cell_type": "code",
   "execution_count": 11,
   "metadata": {
    "collapsed": false
   },
   "outputs": [
    {
     "ename": "SyntaxError",
     "evalue": "invalid syntax (<ipython-input-11-309eab9bb383>, line 3)",
     "output_type": "error",
     "traceback": [
      "\u001b[0;36m  File \u001b[0;32m\"<ipython-input-11-309eab9bb383>\"\u001b[0;36m, line \u001b[0;32m3\u001b[0m\n\u001b[0;31m    if (a == 1) and\u001b[0m\n\u001b[0m                    ^\u001b[0m\n\u001b[0;31mSyntaxError\u001b[0m\u001b[0;31m:\u001b[0m invalid syntax\n"
     ]
    }
   ],
   "source": [
    "a = 1\n",
    "b = 3\n",
    "if (a == 1) and \n",
    "(b == 3):\n",
    "    print('connected lines')"
   ]
  },
  {
   "cell_type": "markdown",
   "metadata": {},
   "source": [
    "#### 괄호로 함께 묶여져 있는 경우"
   ]
  },
  {
   "cell_type": "code",
   "execution_count": 12,
   "metadata": {
    "collapsed": false
   },
   "outputs": [
    {
     "name": "stdout",
     "output_type": "stream",
     "text": [
      "connected lines\n"
     ]
    }
   ],
   "source": [
    "a = 1\n",
    "b = 3\n",
    "if ((a == 1) and\n",
    "    (b == 3)):\n",
    "    print('connected lines')"
   ]
  },
  {
   "cell_type": "markdown",
   "metadata": {},
   "source": [
    "### 치환문 또는 대입문\n",
    "= 가 사용된 문은 ***오른쪽의 객체나 식을 왼쪽의 변수*** 이름에 할당 하는 것.\n",
    "* C/C++ 또는 Java 처럼 미리 선언할 필요가 없다.\n",
    "* 필요한 시점에서 치환하면 변수는 생성된다.\n",
    "* 변수의 자료형은 = 오른쪽 자료형에 의해 결정된다."
   ]
  },
  {
   "cell_type": "code",
   "execution_count": 13,
   "metadata": {
    "collapsed": false
   },
   "outputs": [
    {
     "name": "stdout",
     "output_type": "stream",
     "text": [
      "1\n"
     ]
    }
   ],
   "source": [
    "a = 1  # 즉시 정수형 객체를 생성한다.\n",
    "b = a  \n",
    "print(b)"
   ]
  },
  {
   "cell_type": "markdown",
   "metadata": {},
   "source": [
    "#### 잘못된 구문 작성시 에러\n",
    "치환문은 = 왼쪽에 치환할 변수 이름이 놓여야 한다."
   ]
  },
  {
   "cell_type": "code",
   "execution_count": 14,
   "metadata": {
    "collapsed": false
   },
   "outputs": [
    {
     "ename": "SyntaxError",
     "evalue": "can't assign to operator (<ipython-input-14-3aa35fdab4b7>, line 1)",
     "output_type": "error",
     "traceback": [
      "\u001b[0;36m  File \u001b[0;32m\"<ipython-input-14-3aa35fdab4b7>\"\u001b[0;36m, line \u001b[0;32m1\u001b[0m\n\u001b[0;31m    1 + 3 = a\u001b[0m\n\u001b[0m             ^\u001b[0m\n\u001b[0;31mSyntaxError\u001b[0m\u001b[0;31m:\u001b[0m can't assign to operator\n"
     ]
    }
   ],
   "source": [
    "1 + 3 = a"
   ]
  },
  {
   "cell_type": "markdown",
   "metadata": {},
   "source": [
    "= 는 등호가 아니다. 치환 연산자이다. 오른쪽의 값을 왼쪽에 갖다 놓으라는 뜻이다."
   ]
  },
  {
   "cell_type": "code",
   "execution_count": 15,
   "metadata": {
    "collapsed": false
   },
   "outputs": [
    {
     "name": "stdout",
     "output_type": "stream",
     "text": [
      "2\n"
     ]
    }
   ],
   "source": [
    "a = 1\n",
    "a = a + 1\n",
    "print(a)"
   ]
  },
  {
   "cell_type": "markdown",
   "metadata": {},
   "source": [
    "#### 여러 값을 한 줄에서 치환하는 방법"
   ]
  },
  {
   "cell_type": "code",
   "execution_count": 16,
   "metadata": {
    "collapsed": false
   },
   "outputs": [
    {
     "name": "stdout",
     "output_type": "stream",
     "text": [
      "a:  1\n",
      "b:  [2, 3, 4, 5]\n"
     ]
    }
   ],
   "source": [
    "c, b = 3, 4  # 여러 개를 한꺼번에 치환\n",
    "x = y = z = 0  # 여러 개를 같은 값 0으로 치환\n",
    "e = 3.5; f = 5.6  # 세미콜론으로 문들을 구분\n",
    "e, f = f, e  # 값을 교환\n",
    "a, b = (1, 2)  # 언패킹(unpacking). 오른쪽에 묶인 값들을 왼쪽 변수로 풀어내는 것\n",
    "a, *b = [1, 2, 3, 4, 5]  # 확장된 언패킹. b에는 할당되고 남은 값들이 들어감\n",
    "\n",
    "print('a: ', a)\n",
    "print('b: ', b)"
   ]
  },
  {
   "cell_type": "code",
   "execution_count": 17,
   "metadata": {
    "collapsed": false
   },
   "outputs": [
    {
     "name": "stdout",
     "output_type": "stream",
     "text": [
      "a:  [1, 2, 3, 4]\n"
     ]
    }
   ],
   "source": [
    "*a, b = [1, 2, 3, 4, 5]\n",
    "print('a: ', a)"
   ]
  },
  {
   "cell_type": "markdown",
   "metadata": {},
   "source": [
    "변수가 이미 있을 경우, 변수에 새 값을 할당하면 **기존의 값은 잃어버리고 새 값으로 치환**된다."
   ]
  },
  {
   "cell_type": "code",
   "execution_count": 18,
   "metadata": {
    "collapsed": false
   },
   "outputs": [
    {
     "name": "stdout",
     "output_type": "stream",
     "text": [
      "before:  <class 'int'>\n",
      "after:  <class 'str'>\n"
     ]
    }
   ],
   "source": [
    "a = 1\n",
    "print('before: ', type(a))\n",
    "\n",
    "a = 'hello world'\n",
    "print('after: ', type(a))"
   ]
  },
  {
   "cell_type": "markdown",
   "metadata": {},
   "source": [
    "### 확장 치환문\n",
    "산술과 관계 연산자를 치환문과 함께 사용할 수 있다.\n",
    "\n",
    "`+=, -=, *=, /=, //=, %=, **=, >>=, <<=, &=, ^=, &=, |=`\n",
    "\n",
    "x op= y의 의미는 x = x op (y)와 같다."
   ]
  },
  {
   "cell_type": "code",
   "execution_count": 19,
   "metadata": {
    "collapsed": false
   },
   "outputs": [
    {
     "name": "stdout",
     "output_type": "stream",
     "text": [
      "2\n"
     ]
    }
   ],
   "source": [
    "a = 0\n",
    "a += 2\n",
    "print(a)"
   ]
  },
  {
   "cell_type": "markdown",
   "metadata": {},
   "source": [
    "다음은 a에 어떤 값이 들어가는지 생각해보자."
   ]
  },
  {
   "cell_type": "code",
   "execution_count": 20,
   "metadata": {
    "collapsed": true
   },
   "outputs": [],
   "source": [
    "a = 2\n",
    "a *= 2 + 3  # a의 값은 무엇인가?"
   ]
  },
  {
   "cell_type": "markdown",
   "metadata": {},
   "source": [
    "### 이름과 값 객체\n",
    "파이썬은 변수의 이름과 값 객체가 분리되어 있다.\n",
    "`a = 1`\n",
    "* 위 구문에서 숫자 1이 변수 a에 저장되는 것이 아니다.\n",
    "* a는 **이름**이라 부른다.\n",
    "* 숫자 1은 값 **객체**라고 한다 \n",
    "* 두 개념은 분리되어 있다.\n",
    "* 변수의 이름 'a'는 값이 1인 객체를 가리키게 된다."
   ]
  },
  {
   "cell_type": "markdown",
   "metadata": {},
   "source": [
    "### 객체의 치환\n",
    "파이썬에서 객체의 치환은 대부분 참조에 의해 이루어진다."
   ]
  },
  {
   "cell_type": "code",
   "execution_count": 21,
   "metadata": {
    "collapsed": false
   },
   "outputs": [
    {
     "name": "stdout",
     "output_type": "stream",
     "text": [
      "X:  [1, 2, 3]\n",
      "Y:  [10, [1, 2, 3], 20]\n",
      "Z:  ['a', [1, 2, 3], 'b']\n"
     ]
    }
   ],
   "source": [
    "X = [1, 2, 3]\n",
    "Y = [10, X, 20]\n",
    "Z = ['a', X, 'b']\n",
    "\n",
    "print('X: ', X)\n",
    "print('Y: ', Y)\n",
    "print('Z: ', Z)"
   ]
  },
  {
   "cell_type": "markdown",
   "metadata": {},
   "source": [
    "Y와 Z는 각각 객체 X를 내부 항목으로 지정했다. **X객체에 대한 참조**만 Y와 Z에 삽입된다.\n",
    "\n",
    "X가 공유되는지 확인해보자."
   ]
  },
  {
   "cell_type": "code",
   "execution_count": 22,
   "metadata": {
    "collapsed": false
   },
   "outputs": [
    {
     "name": "stdout",
     "output_type": "stream",
     "text": [
      "X:  [1, 2, 3]\n",
      "X:  [1, 'hello', 3]\n",
      "Y:  [10, [1, 'hello', 3], 20]\n",
      "Z:  ['a', [1, 'hello', 3], 'b']\n"
     ]
    }
   ],
   "source": [
    "print('X: ', X)\n",
    "\n",
    "X[1] = 'hello'  # X[1]에는 숫자 2가 들어있었다.\n",
    "print('X: ', X)\n",
    "print('Y: ', Y)\n",
    "print('Z: ', Z)"
   ]
  },
  {
   "cell_type": "markdown",
   "metadata": {},
   "source": [
    "---\n",
    "## 콘솔 입·출력\n",
    "표준 입력 장치 즉, 키보드에서 데이터를 입력받고 표준 출력 장치인 화면으로 데이터를 출력\n",
    "\n",
    "### input()를 이용한 콘솔 입력\n",
    "* 키보드로부터 데이터를 입력받기 위해서 사용하는 함수는 input()이다.\n",
    "* input() 함수의 인수는 키보드 입력을 알려주는 프롬프트(메세지)이다.\n",
    "* Enter를 누를 때까지 입력 받았던 **문자열**을 반환한다."
   ]
  },
  {
   "cell_type": "code",
   "execution_count": 23,
   "metadata": {
    "collapsed": false
   },
   "outputs": [
    {
     "name": "stdout",
     "output_type": "stream",
     "text": [
      "name > hello\n",
      "hello\n"
     ]
    }
   ],
   "source": [
    "name = input('name > ')\n",
    "print(name)"
   ]
  },
  {
   "cell_type": "markdown",
   "metadata": {},
   "source": [
    "문자열이 아닌 정수나 실수 값이 필요하다면, 입력받은 문자열을 형변환을 통하여 원하는 형으로 변환 할 수 있다."
   ]
  },
  {
   "cell_type": "code",
   "execution_count": 24,
   "metadata": {
    "collapsed": false
   },
   "outputs": [
    {
     "name": "stdout",
     "output_type": "stream",
     "text": [
      "data > 13\n",
      "<class 'str'>\n",
      "<class 'int'>\n"
     ]
    }
   ],
   "source": [
    "data = input('data > ')\n",
    "print(type(data))  # 현재는 문자열 데이터이다.\n",
    "\n",
    "data = int(data)  # 수치형 데이터로 형변환을 했다.\n",
    "print(type(data))  # 현재는 수치형 데이터이다."
   ]
  },
  {
   "cell_type": "markdown",
   "metadata": {},
   "source": [
    "### 콘솔 출력\n",
    "#### print() 함수를 이용한 콘솔 출력\n",
    "* 화면으로 데이터를 출력할 때 가장 보편적으로 사용하는 함수이다.\n",
    "* 여러 값을 쉼표(comma)로 구분할 수 있다.\n",
    "* 출력할 때 각각의 값 사이에 공백 한 개가 추가 된다.\n",
    "* 기본적으로 마지막에 줄 바꾸기를 한다.\n",
    "* 인수 end 값을 변경하여 마지막 출력 값을 바꿀 수 있다.\n",
    "* 인수 sep을 사용하면 항목 간의 출력 문자도 변경할 수 있다.\n",
    "* 인수 file을 사용하면 **파일 객체로 출력하도록 전환**할 수 있다."
   ]
  },
  {
   "cell_type": "code",
   "execution_count": 25,
   "metadata": {
    "collapsed": false
   },
   "outputs": [
    {
     "name": "stdout",
     "output_type": "stream",
     "text": [
      "hello world\n",
      "1 2 3 4 5\n",
      "1 2 3 4\n",
      "1, 2, 3, 4, 5\n",
      "12345\n"
     ]
    }
   ],
   "source": [
    "print('hello world')\n",
    "print(1,2,3,4,5)\n",
    "print(1,2, end=' '); print(3, 4)\n",
    "print(1,2,3,4,5, sep=', ')\n",
    "print(1,2,3,4,5, sep='')"
   ]
  },
  {
   "cell_type": "code",
   "execution_count": 26,
   "metadata": {
    "collapsed": false
   },
   "outputs": [
    {
     "data": {
      "text/plain": [
       "'hello world\\n'"
      ]
     },
     "execution_count": 26,
     "metadata": {},
     "output_type": "execute_result"
    }
   ],
   "source": [
    "with open('data.txt', 'w') as f:\n",
    "    print('hello world', file=f)\n",
    "open('data.txt').read()"
   ]
  },
  {
   "cell_type": "markdown",
   "metadata": {},
   "source": [
    "### 서식출력\n",
    "format() 함수를 이용하여 데이터 한 개에 대해 서식을 지정해서 출력할 수 있다.\n",
    "`format(value, format_spec)`\n",
    "* 인수 value를 인수 format_spec에 지정된 서식의 **문자열로 변환**하여 출력\n",
    "* **문자열 객체의 format 메서드**를 사용하면 좀 더 세련된 서식 출력이 가능하다.\n",
    "* 자릿수를 고정하고 싶으면 {}안에 위치 매개 매개 변수 다음에 콜론(:)을 입력하고 서식 지정을 한다."
   ]
  },
  {
   "cell_type": "code",
   "execution_count": 27,
   "metadata": {
    "collapsed": false
   },
   "outputs": [
    {
     "name": "stdout",
     "output_type": "stream",
     "text": [
      "1.235\n",
      "Name: 아이유, Phone: 20140416\n",
      "\n",
      "sqrt(1) = 1.0\n",
      "sqrt(2) = 1.4142135623730951\n",
      "sqrt(3) = 1.7320508075688772\n",
      "sqrt(4) = 2.0\n",
      "\n",
      "sqrt(1) = 1.00\n",
      "sqrt(2) = 1.41\n",
      "sqrt(3) = 1.73\n",
      "sqrt(4) = 2.00\n"
     ]
    }
   ],
   "source": [
    "print(format(1.234567, '1.3f'))\n",
    "\n",
    "data = 'Name: {0}, Phone: {1}'.format('아이유', 20140416)\n",
    "print(data)\n",
    "\n",
    "print('')\n",
    "import math\n",
    "for k in range(1, 5):\n",
    "    print('sqrt({0}) = {1}'.format(k, math.sqrt(k)))\n",
    "\n",
    "print('')\n",
    "for k in range(1, 5):\n",
    "    print('sqrt({0}) = {1:1.2f}'.format(k, math.sqrt(k)))"
   ]
  },
  {
   "cell_type": "markdown",
   "metadata": {},
   "source": [
    "## 자료형의 종류\n",
    "* 자료형이란 컴퓨터로 표현할 수 있는 데이터의 종류를 의미한다.\n",
    "* 파이썬은 다양한 정보를 저장할 수 있는 고수준의 내장 자료형을 미리 준비해 놓고 있다.\n",
    "* 대부분 별다른 자료 구조 설계 없이도 파이썬에서 제공하는 자료형만으로 작업이 가능하다.\n",
    "\n",
    "### bool\n",
    "* True와 False를 나타내는 자료형이다.\n",
    "* 부울 값은 정수로 간주하기도 한다.\n",
    "    * True 는 1\n",
    "    * False 는 0\n",
    "* 식에서 부울 값을 알고 싶으면 bool() 함수를 사용한다.\n",
    "* True, False 두 값을 가진다."
   ]
  },
  {
   "cell_type": "code",
   "execution_count": 28,
   "metadata": {
    "collapsed": false
   },
   "outputs": [
    {
     "name": "stdout",
     "output_type": "stream",
     "text": [
      "False\n",
      "True\n",
      "3:  True\n",
      "[]:  False\n"
     ]
    }
   ],
   "source": [
    "a = 1\n",
    "print(a < 0)\n",
    "print(a > 0)\n",
    "\n",
    "print('3: ', bool(3))\n",
    "print('[]: ', bool([]))"
   ]
  },
  {
   "cell_type": "markdown",
   "metadata": {},
   "source": [
    "### int, float, complex\n",
    "* 정수와 실수, 복소수 등 숫자를 표현하는 자료형이다.\n",
    "* 123, 1.43, 5+4j"
   ]
  },
  {
   "cell_type": "markdown",
   "metadata": {},
   "source": [
    "### str\n",
    "* 문자열은 문자들(텍스트)을 표현하는 자료형이다.\n",
    "* 문자열은 작은따옴표(' ')나 큰따옴표(\" \")에 묶인 문자들의 모임이다.\n",
    "* 인덱싱(Indexing)으로 각각의 문자를 취할 수 있다.\n",
    "* 슬라이싱(slicing)으로 문자열 중 일부를 취할 수 있다.\n",
    "* 문자열은 연결(+)과 반복(\\*) 연산도 가능하다.\n",
    "* 문자열의 값은 변경되지 않는다.\n",
    "* 문자열의 값을 변경하려면 슬라이싱과 연결하기를 사용하여 새로운 문자열 객체를 만든다.\n",
    "* 다양한 메서드를 지원한다.\n",
    "    * upper() 대문자로 전환\n",
    "    * split() 공백을 기준으로 리스트 형태로 분리\n",
    "    * find() 부분 문자열의 위치를 검색\n",
    "    * startswith() 시작하는 부분 문자열을 확인\n",
    "    * endswith() 종료하는 부분 문자열을 확인    "
   ]
  },
  {
   "cell_type": "code",
   "execution_count": 29,
   "metadata": {
    "collapsed": false
   },
   "outputs": [
    {
     "name": "stdout",
     "output_type": "stream",
     "text": [
      "Hello World 안녕 세계\n"
     ]
    }
   ],
   "source": [
    "a = 'Hello World'\n",
    "b = \"안녕 세계\"\n",
    "print(a, b)"
   ]
  },
  {
   "cell_type": "code",
   "execution_count": 30,
   "metadata": {
    "collapsed": false
   },
   "outputs": [
    {
     "name": "stdout",
     "output_type": "stream",
     "text": [
      "H W 세 계\n",
      "a[:5] -  Hello\n",
      "a[6:] -  World\n",
      "a[::2] -  HloWrd\n"
     ]
    }
   ],
   "source": [
    "print(a[0], a[6], b[3], b[-1])\n",
    "\n",
    "print('a[:5] - ', a[:5])\n",
    "print('a[6:] - ', a[6:])\n",
    "print('a[::2] - ', a[::2])"
   ]
  },
  {
   "cell_type": "code",
   "execution_count": 31,
   "metadata": {
    "collapsed": false
   },
   "outputs": [
    {
     "name": "stdout",
     "output_type": "stream",
     "text": [
      "Hello World안녕 세계\n",
      "Hello 세계\n"
     ]
    }
   ],
   "source": [
    "print(a + b)\n",
    "c = a[:5] + b[2:] \n",
    "print(c)"
   ]
  },
  {
   "cell_type": "code",
   "execution_count": 32,
   "metadata": {
    "collapsed": false
   },
   "outputs": [
    {
     "name": "stdout",
     "output_type": "stream",
     "text": [
      "Hello World\n",
      "HELLO WORLD\n",
      "['Hello', 'World']\n",
      "6\n",
      "True\n",
      "False\n"
     ]
    }
   ],
   "source": [
    "print(a)\n",
    "print(a.upper())\n",
    "print(a.split())\n",
    "print(a.find('World'))\n",
    "print(a.startswith('Hello'))\n",
    "print(a.endswith('dl'))"
   ]
  },
  {
   "cell_type": "markdown",
   "metadata": {
    "collapsed": true
   },
   "source": [
    "### Bytes\n",
    "* 바이트는 0~255 사이 코드의 열이다.\n",
    "* 바이트도 문자열에서 사용하는 연산을 대부분 지원한다."
   ]
  },
  {
   "cell_type": "code",
   "execution_count": 33,
   "metadata": {
    "collapsed": false
   },
   "outputs": [
    {
     "name": "stdout",
     "output_type": "stream",
     "text": [
      "b'Hello World' <class 'bytes'>\n"
     ]
    }
   ],
   "source": [
    "b = b'Hello World'\n",
    "print(b, type(b))"
   ]
  },
  {
   "cell_type": "code",
   "execution_count": 34,
   "metadata": {
    "collapsed": false
   },
   "outputs": [
    {
     "name": "stdout",
     "output_type": "stream",
     "text": [
      "b'ello'\n",
      "False\n",
      "b'HELLO WORLD'\n",
      "[b'Hello', b'World']\n",
      "True\n",
      "True\n"
     ]
    }
   ],
   "source": [
    "print(b[1:5])  # 인덱싱과 슬라이싱을 모두 지원\n",
    "print(b'th' in b)  # 멤버 검사\n",
    "print(b.upper())  \n",
    "print(b.split())\n",
    "print(b.startswith(b'Hel'))\n",
    "print(b.endswith(b'ld'))"
   ]
  },
  {
   "cell_type": "markdown",
   "metadata": {},
   "source": [
    "#### 문자열과 유니코드의 차이점\n",
    "* 문자열은 유니코드를 기본으로 한다.\n",
    "* 바이트는 1바이트로 표현되는 문자만 표현할 수 있다.\n",
    "* 바이트와 문자열의 연산은 지원되지 않는다."
   ]
  },
  {
   "cell_type": "code",
   "execution_count": 35,
   "metadata": {
    "collapsed": false
   },
   "outputs": [
    {
     "ename": "SyntaxError",
     "evalue": "bytes can only contain ASCII literal characters. (<ipython-input-35-836d839852a7>, line 2)",
     "output_type": "error",
     "traceback": [
      "\u001b[0;36m  File \u001b[0;32m\"<ipython-input-35-836d839852a7>\"\u001b[0;36m, line \u001b[0;32m2\u001b[0m\n\u001b[0;31m    c = b'잊지않겠습니다.'\u001b[0m\n\u001b[0m       ^\u001b[0m\n\u001b[0;31mSyntaxError\u001b[0m\u001b[0;31m:\u001b[0m bytes can only contain ASCII literal characters.\n"
     ]
    }
   ],
   "source": [
    "s = '잊지않겠습니다.'\n",
    "c = b'잊지않겠습니다.'"
   ]
  },
  {
   "cell_type": "code",
   "execution_count": 36,
   "metadata": {
    "collapsed": false
   },
   "outputs": [
    {
     "ename": "TypeError",
     "evalue": "can't concat bytes to str",
     "output_type": "error",
     "traceback": [
      "\u001b[0;31m---------------------------------------------------------------------------\u001b[0m",
      "\u001b[0;31mTypeError\u001b[0m                                 Traceback (most recent call last)",
      "\u001b[0;32m<ipython-input-36-aa38eabade38>\u001b[0m in \u001b[0;36m<module>\u001b[0;34m()\u001b[0m\n\u001b[0;32m----> 1\u001b[0;31m \u001b[0;34mb'May the force be with '\u001b[0m \u001b[0;34m+\u001b[0m \u001b[0;34m'you'\u001b[0m\u001b[0;34m\u001b[0m\u001b[0m\n\u001b[0m",
      "\u001b[0;31mTypeError\u001b[0m: can't concat bytes to str"
     ]
    }
   ],
   "source": [
    "b'May the force be with ' + 'you'"
   ]
  },
  {
   "cell_type": "markdown",
   "metadata": {},
   "source": [
    "* 바이트를 문자열로 변환하려면 decode() 메서드를 사용한다.\n",
    "* 문자열을 바이트로 변경하려면 encode() 메서드를 사용한다."
   ]
  },
  {
   "cell_type": "code",
   "execution_count": 37,
   "metadata": {
    "collapsed": false
   },
   "outputs": [
    {
     "name": "stdout",
     "output_type": "stream",
     "text": [
      "Hello World\n",
      "Hello World\n",
      "b'\\xec\\x9e\\x8a\\xec\\xa7\\x80\\xec\\x95\\x8a\\xea\\xb2\\xa0\\xec\\x8a\\xb5\\xeb\\x8b\\x88\\xeb\\x8b\\xa4.'\n"
     ]
    }
   ],
   "source": [
    "print(b.decode())  # 기본값으로 UTF-8을 사용한다.\n",
    "print(b.decode('cp949'))  # 직접 인코딩을 지정할 수 있다.\n",
    "\n",
    "s = \"잊지않겠습니다.\"\n",
    "print(s.encode())"
   ]
  },
  {
   "cell_type": "markdown",
   "metadata": {},
   "source": [
    "* 변경이 가능한 바이트를 원하면 bytearray 자료형을 사용"
   ]
  },
  {
   "cell_type": "code",
   "execution_count": 38,
   "metadata": {
    "collapsed": false
   },
   "outputs": [
    {
     "name": "stdout",
     "output_type": "stream",
     "text": [
      "bytearray(b'Hello WArld')\n",
      "b'Hello WArld'\n",
      "Hello WArld\n"
     ]
    }
   ],
   "source": [
    "ba = bytearray(b)  # 자료형을 bytes에서 bytearry로 형변환\n",
    "ba[7] = ord('A')  \n",
    "print(ba)\n",
    "\n",
    "print(bytes(ba))  # 다시 자료형을 bytes로 변환\n",
    "print(ba.decode())  # 문자열로 변환"
   ]
  },
  {
   "cell_type": "markdown",
   "metadata": {},
   "source": [
    "### 리스트\n",
    "* 리스트는 대괄호 []를 이용하여 임의의 객체를 저장하는 집학적인 자료형이다.\n",
    "* 리스트는 순서가 있다."
   ]
  },
  {
   "cell_type": "code",
   "execution_count": 39,
   "metadata": {
    "collapsed": false
   },
   "outputs": [
    {
     "name": "stdout",
     "output_type": "stream",
     "text": [
      "3\n"
     ]
    }
   ],
   "source": [
    "L = [1,2,3]\n",
    "print(len(L))  # 데이터의 개수 확인"
   ]
  },
  {
   "cell_type": "code",
   "execution_count": 40,
   "metadata": {
    "collapsed": false
   },
   "outputs": [
    {
     "name": "stdout",
     "output_type": "stream",
     "text": [
      "2 3 [2, 3]\n"
     ]
    }
   ],
   "source": [
    "print(L[1], L[-1], L[1:3])"
   ]
  },
  {
   "cell_type": "code",
   "execution_count": 41,
   "metadata": {
    "collapsed": false
   },
   "outputs": [
    {
     "data": {
      "text/plain": [
       "[1, 2, 3, 1, 2, 3]"
      ]
     },
     "execution_count": 41,
     "metadata": {},
     "output_type": "execute_result"
    }
   ],
   "source": [
    "L + L"
   ]
  },
  {
   "cell_type": "code",
   "execution_count": 42,
   "metadata": {
    "collapsed": false
   },
   "outputs": [
    {
     "data": {
      "text/plain": [
       "[1, 2, 3, 1, 2, 3, 1, 2, 3]"
      ]
     },
     "execution_count": 42,
     "metadata": {},
     "output_type": "execute_result"
    }
   ],
   "source": [
    "L * 3"
   ]
  },
  {
   "cell_type": "code",
   "execution_count": 43,
   "metadata": {
    "collapsed": false
   },
   "outputs": [
    {
     "data": {
      "text/plain": [
       "[0, 1, 2, 3, 4, 5, 6, 7, 8, 9]"
      ]
     },
     "execution_count": 43,
     "metadata": {},
     "output_type": "execute_result"
    }
   ],
   "source": [
    "L = list(range(10))\n",
    "L"
   ]
  },
  {
   "cell_type": "code",
   "execution_count": 44,
   "metadata": {
    "collapsed": false
   },
   "outputs": [
    {
     "data": {
      "text/plain": [
       "[0, 2, 4, 6, 8]"
      ]
     },
     "execution_count": 44,
     "metadata": {},
     "output_type": "execute_result"
    }
   ],
   "source": [
    "L[::2]"
   ]
  },
  {
   "cell_type": "code",
   "execution_count": 45,
   "metadata": {
    "collapsed": false
   },
   "outputs": [
    {
     "data": {
      "text/plain": [
       "[9, 8, 7, 6, 5, 4, 3, 2, 1, 0]"
      ]
     },
     "execution_count": 45,
     "metadata": {},
     "output_type": "execute_result"
    }
   ],
   "source": [
    "L[::-1]"
   ]
  },
  {
   "cell_type": "code",
   "execution_count": 46,
   "metadata": {
    "collapsed": false
   },
   "outputs": [
    {
     "data": {
      "text/plain": [
       "True"
      ]
     },
     "execution_count": 46,
     "metadata": {},
     "output_type": "execute_result"
    }
   ],
   "source": [
    "4 in L"
   ]
  },
  {
   "cell_type": "markdown",
   "metadata": {},
   "source": [
    "* 리스트는 다양한 메서드를 지원한다."
   ]
  },
  {
   "cell_type": "code",
   "execution_count": 52,
   "metadata": {
    "collapsed": false
   },
   "outputs": [
    {
     "data": {
      "text/plain": [
       "[1, 2, 3, 4]"
      ]
     },
     "execution_count": 52,
     "metadata": {},
     "output_type": "execute_result"
    }
   ],
   "source": [
    "L = [1,2,3]\n",
    "L.append(4)\n",
    "L"
   ]
  },
  {
   "cell_type": "code",
   "execution_count": 53,
   "metadata": {
    "collapsed": false
   },
   "outputs": [
    {
     "data": {
      "text/plain": [
       "[2, 3, 4]"
      ]
     },
     "execution_count": 53,
     "metadata": {},
     "output_type": "execute_result"
    }
   ],
   "source": [
    "del L[0]\n",
    "L"
   ]
  },
  {
   "cell_type": "code",
   "execution_count": 54,
   "metadata": {
    "collapsed": false
   },
   "outputs": [
    {
     "data": {
      "text/plain": [
       "[4, 3, 2]"
      ]
     },
     "execution_count": 54,
     "metadata": {},
     "output_type": "execute_result"
    }
   ],
   "source": [
    "L.reverse()  # 순서를 바꾼다.\n",
    "L"
   ]
  },
  {
   "cell_type": "code",
   "execution_count": 55,
   "metadata": {
    "collapsed": false
   },
   "outputs": [
    {
     "data": {
      "text/plain": [
       "[2, 3, 4]"
      ]
     },
     "execution_count": 55,
     "metadata": {},
     "output_type": "execute_result"
    }
   ],
   "source": [
    "L.sort()  # 오름차순으로 정렬한다.\n",
    "L"
   ]
  },
  {
   "cell_type": "markdown",
   "metadata": {},
   "source": [
    "### 튜플\n",
    "* 튜플과 리스트의 차이라면, 튜플은 값을 변경할 수 없고, 리스트는 변경할 수 있다.\n",
    "* 튜플은 검색관련 메서드만 지원한다."
   ]
  },
  {
   "cell_type": "code",
   "execution_count": 56,
   "metadata": {
    "collapsed": false
   },
   "outputs": [
    {
     "ename": "TypeError",
     "evalue": "'tuple' object does not support item assignment",
     "output_type": "error",
     "traceback": [
      "\u001b[0;31m---------------------------------------------------------------------------\u001b[0m",
      "\u001b[0;31mTypeError\u001b[0m                                 Traceback (most recent call last)",
      "\u001b[0;32m<ipython-input-56-a02d2f714431>\u001b[0m in \u001b[0;36m<module>\u001b[0;34m()\u001b[0m\n\u001b[1;32m      1\u001b[0m \u001b[0mt\u001b[0m \u001b[0;34m=\u001b[0m \u001b[0;34m(\u001b[0m\u001b[0;36m1\u001b[0m\u001b[0;34m,\u001b[0m\u001b[0;36m2\u001b[0m\u001b[0;34m,\u001b[0m\u001b[0;36m3\u001b[0m\u001b[0;34m)\u001b[0m\u001b[0;34m\u001b[0m\u001b[0m\n\u001b[0;32m----> 2\u001b[0;31m \u001b[0mt\u001b[0m\u001b[0;34m[\u001b[0m\u001b[0;36m0\u001b[0m\u001b[0;34m]\u001b[0m \u001b[0;34m=\u001b[0m \u001b[0;36m100\u001b[0m\u001b[0;34m\u001b[0m\u001b[0m\n\u001b[0m",
      "\u001b[0;31mTypeError\u001b[0m: 'tuple' object does not support item assignment"
     ]
    }
   ],
   "source": [
    "t = (1,2,3)\n",
    "t[0] = 100"
   ]
  },
  {
   "cell_type": "markdown",
   "metadata": {},
   "source": [
    "### 사전\n",
    "* 오프셋이 아닌 키를 사용하여 값을 얻는 자료형이다.\n",
    "* 사전에 a라는 **키**를 주면 **값**을 돌려받는다.\n",
    "* 키에 대응하는 값을 저장할 수 있다.\n",
    "* 사전은 중괄호 {}를 사용한다."
   ]
  },
  {
   "cell_type": "code",
   "execution_count": 58,
   "metadata": {
    "collapsed": false
   },
   "outputs": [
    {
     "data": {
      "text/plain": [
       "{'one': 1, 'three': 3, 'two': 2}"
      ]
     },
     "execution_count": 58,
     "metadata": {},
     "output_type": "execute_result"
    }
   ],
   "source": [
    "d = {'one': 1, 'two': 2, 'three': 3}\n",
    "d"
   ]
  },
  {
   "cell_type": "code",
   "execution_count": 60,
   "metadata": {
    "collapsed": false
   },
   "outputs": [
    {
     "data": {
      "text/plain": [
       "{'one': 1, 'three': 3, 'two': 2}"
      ]
     },
     "execution_count": 60,
     "metadata": {},
     "output_type": "execute_result"
    }
   ],
   "source": [
    "d = dict(one = 1, two = 2, three = 3)  # dict() 함수를 사용하여 만들 수 있다.\n",
    "d"
   ]
  },
  {
   "cell_type": "code",
   "execution_count": 62,
   "metadata": {
    "collapsed": false
   },
   "outputs": [
    {
     "data": {
      "text/plain": [
       "1"
      ]
     },
     "execution_count": 62,
     "metadata": {},
     "output_type": "execute_result"
    }
   ],
   "source": [
    "d['one']  # 키 값에 의해 값을 추출한다."
   ]
  },
  {
   "cell_type": "code",
   "execution_count": 64,
   "metadata": {
    "collapsed": false
   },
   "outputs": [
    {
     "data": {
      "text/plain": [
       "{'four': 4, 'one': 1, 'three': 3, 'two': 2}"
      ]
     },
     "execution_count": 64,
     "metadata": {},
     "output_type": "execute_result"
    }
   ],
   "source": [
    "d['four'] = 4  # 세 항목을 삽입\n",
    "d"
   ]
  },
  {
   "cell_type": "code",
   "execution_count": 65,
   "metadata": {
    "collapsed": false
   },
   "outputs": [
    {
     "data": {
      "text/plain": [
       "{'four': 5, 'one': 1, 'three': 3, 'two': 2}"
      ]
     },
     "execution_count": 65,
     "metadata": {},
     "output_type": "execute_result"
    }
   ],
   "source": [
    "d['four'] = 5  # 기존 항목의 값을 변경\n",
    "d"
   ]
  },
  {
   "cell_type": "code",
   "execution_count": 66,
   "metadata": {
    "collapsed": false
   },
   "outputs": [
    {
     "data": {
      "text/plain": [
       "True"
      ]
     },
     "execution_count": 66,
     "metadata": {},
     "output_type": "execute_result"
    }
   ],
   "source": [
    "'one' in d  # 키에 대한 멤버 검사"
   ]
  },
  {
   "cell_type": "markdown",
   "metadata": {},
   "source": [
    "* 사전은 순서에 따라 요소를 저장하지 않는다.\n",
    "* 사전을 리스트나 튜플로 변환할 수 있다."
   ]
  },
  {
   "cell_type": "code",
   "execution_count": 69,
   "metadata": {
    "collapsed": false
   },
   "outputs": [
    {
     "name": "stdout",
     "output_type": "stream",
     "text": [
      "dict_keys(['two', 'one', 'three'])\n",
      "dict_values(['둘', '하나', '셋'])\n",
      "dict_items([('two', '둘'), ('one', '하나'), ('three', '셋')])\n"
     ]
    }
   ],
   "source": [
    "d = dict(one='하나', two='둘', three='셋')\n",
    "print(d.keys())  # 키 값만 추출\n",
    "print(d.values())  # 값만 추출\n",
    "print(d.items())  # 키와 값을 튜플 항목으로 변환"
   ]
  },
  {
   "cell_type": "markdown",
   "metadata": {},
   "source": [
    " ### 집합\n",
    " * 집합은 중복되지 않으며, 순서가 없는 데이터를 저장하는 자료형\n",
    " * 멤버 검사와 중복된 항목을 제거할 때 유용하다."
   ]
  },
  {
   "cell_type": "code",
   "execution_count": 71,
   "metadata": {
    "collapsed": false
   },
   "outputs": [
    {
     "name": "stdout",
     "output_type": "stream",
     "text": [
      "{1, 2, 3} <class 'set'>\n"
     ]
    }
   ],
   "source": [
    "s1 = {1, 2, 3}  # 중괄호를 이용하여 set객체를 생성한다.\n",
    "print(s1, type(s1))"
   ]
  },
  {
   "cell_type": "code",
   "execution_count": 72,
   "metadata": {
    "collapsed": false
   },
   "outputs": [
    {
     "data": {
      "text/plain": [
       "set()"
      ]
     },
     "execution_count": 72,
     "metadata": {},
     "output_type": "execute_result"
    }
   ],
   "source": [
    "s2 = set()  # 공집합 생성\n",
    "s2"
   ]
  },
  {
   "cell_type": "code",
   "execution_count": 73,
   "metadata": {
    "collapsed": false
   },
   "outputs": [
    {
     "data": {
      "text/plain": [
       "{1, 2, 3, 4}"
      ]
     },
     "execution_count": 73,
     "metadata": {},
     "output_type": "execute_result"
    }
   ],
   "source": [
    "L = [1,2,4,3,2,4,3,2,2,4,3]\n",
    "s = set(L)  # 중복된 항목 제거\n",
    "s"
   ]
  },
  {
   "cell_type": "code",
   "execution_count": 74,
   "metadata": {
    "collapsed": false
   },
   "outputs": [
    {
     "data": {
      "text/plain": [
       "True"
      ]
     },
     "execution_count": 74,
     "metadata": {},
     "output_type": "execute_result"
    }
   ],
   "source": [
    "3 in s  # 멤버 검사"
   ]
  },
  {
   "cell_type": "code",
   "execution_count": 75,
   "metadata": {
    "collapsed": false
   },
   "outputs": [
    {
     "name": "stdout",
     "output_type": "stream",
     "text": [
      "{1, 2, 3, 4, 5, 6}\n",
      "{3}\n",
      "{1, 2}\n",
      "{1, 2, 3, 4, 5, 6}\n",
      "{3}\n",
      "{1, 2, 3, 4}\n",
      "{1, 2, 3}\n"
     ]
    }
   ],
   "source": [
    "s = {1,2,3}\n",
    "t = {3,4,5,6}\n",
    "print(s.union(t))  # 합집합\n",
    "print(s.intersection(t)) # 교집합\n",
    "\n",
    "print(s - t)  # 차집합\n",
    "print(s | t)  # 합집합\n",
    "print(s & t)  # 교집합\n",
    "\n",
    "s = {1,2,3}\n",
    "s.add(4)  # 집합은 변경이 가능한 자료형이다.\n",
    "print(s)\n",
    "\n",
    "s.discard(4)\n",
    "print(s)"
   ]
  }
 ],
 "metadata": {
  "kernelspec": {
   "display_name": "Python 3",
   "language": "python",
   "name": "python3"
  },
  "language_info": {
   "codemirror_mode": {
    "name": "ipython",
    "version": 3
   },
   "file_extension": ".py",
   "mimetype": "text/x-python",
   "name": "python",
   "nbconvert_exporter": "python",
   "pygments_lexer": "ipython3",
   "version": "3.4.3"
  }
 },
 "nbformat": 4,
 "nbformat_minor": 0
}
