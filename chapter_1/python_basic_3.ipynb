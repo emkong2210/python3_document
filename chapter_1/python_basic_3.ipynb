{
 "cells": [
  {
   "cell_type": "markdown",
   "metadata": {},
   "source": [
    "## 함수\n",
    "* 함수란 하나의 이름으로 코드를 묶은 단위이다.\n",
    "* 짧은 시간에 효과적으로 작성할 수 있게 해준다.\n",
    "```python\n",
    "def 함수이름(가인수들):\n",
    "    <문들>\n",
    "```"
   ]
  },
  {
   "cell_type": "markdown",
   "metadata": {},
   "source": [
    "* 가인수들이란 함수 호출 측에서 넘겨주는 매개 변수를 받는 이름들이다.\n",
    "* 호출할 때 넘겨주는 인수를 실인수라고 한다.\n",
    "* 실인수를 가인수한테 넘겨주는 것이다."
   ]
  },
  {
   "cell_type": "code",
   "execution_count": 1,
   "metadata": {
    "collapsed": false
   },
   "outputs": [
    {
     "name": "stdout",
     "output_type": "stream",
     "text": [
      "7\n",
      "[1, 2, 3, 4, 5, 6]\n"
     ]
    }
   ],
   "source": [
    "def add(a, b):\n",
    "    return a + b\n",
    "\n",
    "print(add(3, 4))\n",
    "print(add([1,2,3], [4,5,6]))\n"
   ]
  },
  {
   "cell_type": "markdown",
   "metadata": {},
   "source": [
    "* 파이썬은 동적으로 인수를 전달하므로 함수를 선언할 때 인수의 자료형을 지정할 필요가 없다."
   ]
  },
  {
   "cell_type": "code",
   "execution_count": 2,
   "metadata": {
    "collapsed": false
   },
   "outputs": [
    {
     "data": {
      "text/plain": [
       "300"
      ]
     },
     "execution_count": 2,
     "metadata": {},
     "output_type": "execute_result"
    }
   ],
   "source": [
    "add(a=100, b=200)"
   ]
  },
  {
   "cell_type": "code",
   "execution_count": 3,
   "metadata": {
    "collapsed": false
   },
   "outputs": [
    {
     "data": {
      "text/plain": [
       "50"
      ]
     },
     "execution_count": 3,
     "metadata": {},
     "output_type": "execute_result"
    }
   ],
   "source": [
    "add(b=20, a=30)"
   ]
  },
  {
   "cell_type": "markdown",
   "metadata": {},
   "source": [
    "* 인수의 기본 값을 줄 수 있다."
   ]
  },
  {
   "cell_type": "code",
   "execution_count": 6,
   "metadata": {
    "collapsed": false
   },
   "outputs": [
    {
     "name": "stdout",
     "output_type": "stream",
     "text": [
      "30\n"
     ]
    }
   ],
   "source": [
    "def add(a, b=20):\n",
    "    return a + b\n",
    "\n",
    "print(add(10))"
   ]
  },
  {
   "cell_type": "markdown",
   "metadata": {},
   "source": [
    "## 클래스\n",
    "* 파이썬 클래스는 변수와 함수를 하나로 묶은 단위로 볼 수 있다.\n",
    "* 클래스의 변수를 멤버라 부른다.\n",
    "* 클래스의 함수를 메서드라 부른다.\n",
    "* 메서드와 함수의 차이점은 메서드의 첫 번째 인수는 **인스턴스 객체**이어야 한다.\n",
    "* **인스턴스 객체는 클래스 호출을 통해서 만들 수 있다.**\n",
    "* 메서드의 첫 번째 인수에는 자동으로 인스턴스 자체가 전달된다."
   ]
  },
  {
   "cell_type": "code",
   "execution_count": 8,
   "metadata": {
    "collapsed": false
   },
   "outputs": [
    {
     "name": "stdout",
     "output_type": "stream",
     "text": [
      "60\n",
      "5\n"
     ]
    }
   ],
   "source": [
    "class A:\n",
    "    scale = 10\n",
    "    def area(self, width, height):\n",
    "        return self.scale * width * height\n",
    "    def seta(self, a):\n",
    "        self.a = a\n",
    "    def geta(self):\n",
    "        return self.a\n",
    "    \n",
    "a = A()\n",
    "print(a.area(2, 3))\n",
    "a.seta(5)\n",
    "print(a.geta())"
   ]
  }
 ],
 "metadata": {
  "kernelspec": {
   "display_name": "Python 3",
   "language": "python",
   "name": "python3"
  },
  "language_info": {
   "codemirror_mode": {
    "name": "ipython",
    "version": 3
   },
   "file_extension": ".py",
   "mimetype": "text/x-python",
   "name": "python",
   "nbconvert_exporter": "python",
   "pygments_lexer": "ipython3",
   "version": "3.4.3"
  }
 },
 "nbformat": 4,
 "nbformat_minor": 0
}
