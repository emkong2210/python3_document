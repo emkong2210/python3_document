{
 "cells": [
  {
   "cell_type": "markdown",
   "metadata": {},
   "source": [
    "# 파이썬 강의에 앞서"
   ]
  },
  {
   "cell_type": "markdown",
   "metadata": {},
   "source": [
    "## 강의 대상\n",
    "* 본 강의는 Python의 문법을 학습한 경험이 있으나 자세한 부분들을 알지 못한다.\n",
    "* Python으로 프로그램을 만들어 본 적이 없다."
   ]
  },
  {
   "cell_type": "markdown",
   "metadata": {},
   "source": [
    "## [강의목표](#goal)\n",
    "대상에게 Python의 기본을 빠르게 복습하면서도 놓쳤던 부분들을 확실히 짚고 넘어갈 수 있도록 구성하였습니다. "
   ]
  },
  {
   "cell_type": "markdown",
   "metadata": {},
   "source": [
    "## 강의 일정\n",
    "* 8월 24일 ~ 25일\n",
    "    * 학습내용\n",
    "        * 설치 및 환경설정\n",
    "        * 파이썬 기초 속성\n",
    "    * 과제\n",
    "        * 연습문제\n",
    "        * 도서관리 프로그램 #1\n",
    "    * 메인 프로젝트\n",
    "        * 주어진 데이터 가공 및 수치 변환\n",
    "        * 데이터 저장 및 불러오기\n",
    "* 8월 26일\n",
    "    * 학습내용\n",
    "        * 멀티 스레딩\n",
    "        * 소켓 프로그래밍\n",
    "        * 데이터 베이스 프로그래밍\n",
    "    * 과제\n",
    "        * 연습문제\n",
    "        * 도서관리 프로그램 #2\n",
    "    * 메인 프로젝트\n",
    "        * 서버와 클라이언트간의 통신\n",
    "* 8월 27일\n",
    "    * 학습내용\n",
    "        * TkInter를 이용한 GUI 프로그래밍 학습\n",
    "    * 과제\n",
    "        * 연습문제\n",
    "        * 도서관리 프로그램 #3\n",
    "    * 메인 프로젝트\n",
    "        * 데이터 표출 프로그램 작성\n",
    "* 8월 28일\n",
    "    * 학습내용\n",
    "        * 파이썬 심화 \n",
    "        * 프로젝트 진행"
   ]
  },
  {
   "cell_type": "markdown",
   "metadata": {},
   "source": [
    "## 강의 준비\n",
    "짧은 일정 동안 효과적인 학습을 위해 아래의 프로그램을 사용할 것을 권합니다.\n",
    "\n",
    "###  코드 편집기\n",
    "손에 익은 편집기가 이미 있겠지만, 동일한 코드 편집기를 사용하여 저를 비롯한 조교등의 도움을 쉽게 구할 수 있도록 합니다.\n",
    "* [Sublime Text 3](chapter_1_sublimetext.ipynb)\n",
    "\n",
    "###  강의 정리 프로그램\n",
    "강의 도중 정리를 할 시간을 드립니다. 강의 내용을 정리할 프로그램이나 스스로의 방법이 있다면 계속 사용하여도 무방합니다.\n",
    "* [Evernote](chapter_1_evernote.ipynb)"
   ]
  },
  {
   "cell_type": "code",
   "execution_count": null,
   "metadata": {
    "collapsed": true
   },
   "outputs": [],
   "source": []
  }
 ],
 "metadata": {
  "kernelspec": {
   "display_name": "Python 3",
   "language": "python",
   "name": "python3"
  },
  "language_info": {
   "codemirror_mode": {
    "name": "ipython",
    "version": 3
   },
   "file_extension": ".py",
   "mimetype": "text/x-python",
   "name": "python",
   "nbconvert_exporter": "python",
   "pygments_lexer": "ipython3",
   "version": "3.4.3"
  }
 },
 "nbformat": 4,
 "nbformat_minor": 0
}
