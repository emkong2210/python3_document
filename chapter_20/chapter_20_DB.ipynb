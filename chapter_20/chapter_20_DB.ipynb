{
 "cells": [
  {
   "cell_type": "markdown",
   "metadata": {},
   "source": [
    "# 데이터베이스 프로그래밍\n",
    "\n",
    "### 연결 객체 생성하기\n",
    "* 데이터베이스에 연결하려면 연결 객체를 통해서 한다.\n",
    "* 데이터베이스 모듈은 connect() 생성자를 지원한다.\n",
    "```python\n",
    "connect(parameters...)\n",
    "```\n",
    "### sqlite3 \n",
    "\n",
    "#### 데이터 베이스에 연결하기\n",
    "* 데이터베이스에 연결하는 객체 생성은 connect() 함수로 한다.\n",
    "\n",
    "#### 연결 객체 생성"
   ]
  },
  {
   "cell_type": "code",
   "execution_count": 52,
   "metadata": {
    "collapsed": false
   },
   "outputs": [
    {
     "data": {
      "text/plain": [
       "<sqlite3.Connection at 0x4ac2d50>"
      ]
     },
     "execution_count": 52,
     "metadata": {},
     "output_type": "execute_result"
    }
   ],
   "source": [
    "import sqlite3\n",
    "conn = sqlite3.connect(\"pets.db\")    # pets.db 생성\n",
    "conn"
   ]
  },
  {
   "cell_type": "markdown",
   "metadata": {},
   "source": [
    "#### 커서 객체를 얻기\n",
    "#### cursor()    : 커서 객체를 생성한다."
   ]
  },
  {
   "cell_type": "code",
   "execution_count": 53,
   "metadata": {
    "collapsed": false
   },
   "outputs": [
    {
     "data": {
      "text/plain": [
       "<sqlite3.Cursor at 0x4aab340>"
      ]
     },
     "execution_count": 53,
     "metadata": {},
     "output_type": "execute_result"
    }
   ],
   "source": [
    "cursor = conn.cursor()\n",
    "cursor"
   ]
  },
  {
   "cell_type": "markdown",
   "metadata": {},
   "source": [
    "#### sqlite3 모듈의 버전 정보 확인"
   ]
  },
  {
   "cell_type": "code",
   "execution_count": 54,
   "metadata": {
    "collapsed": false
   },
   "outputs": [
    {
     "data": {
      "text/plain": [
       "(3, 8, 3, 1)"
      ]
     },
     "execution_count": 54,
     "metadata": {},
     "output_type": "execute_result"
    }
   ],
   "source": [
    "sqlite3.sqlite_version_info"
   ]
  },
  {
   "cell_type": "code",
   "execution_count": 55,
   "metadata": {
    "collapsed": false
   },
   "outputs": [
    {
     "data": {
      "text/plain": [
       "'3.8.3.1'"
      ]
     },
     "execution_count": 55,
     "metadata": {},
     "output_type": "execute_result"
    }
   ],
   "source": [
    "cursor.execute('SELECT sqlite_version()').fetchone()[0]"
   ]
  },
  {
   "cell_type": "markdown",
   "metadata": {},
   "source": [
    "### SQL 문 실행하기\n",
    "#### 테이블 만들기/ 없애기\n",
    "\n",
    "* 기존에 테이블이 있는지 확인하고, 존재한다면 테이블 제거\n",
    "\n",
    "#### execute(operation[, parameters]) : 데이터베이스 질의나 명령을 실행\n",
    "#### commit()    : 데이터베이스에 보류 중인 트랜잭션을 커밋한다."
   ]
  },
  {
   "cell_type": "code",
   "execution_count": 56,
   "metadata": {
    "collapsed": false
   },
   "outputs": [
    {
     "ename": "OperationalError",
     "evalue": "database is locked",
     "output_type": "error",
     "traceback": [
      "\u001b[1;31m---------------------------------------------------------------------------\u001b[0m",
      "\u001b[1;31mOperationalError\u001b[0m                          Traceback (most recent call last)",
      "\u001b[1;32m<ipython-input-56-c78166e9330a>\u001b[0m in \u001b[0;36m<module>\u001b[1;34m()\u001b[0m\n\u001b[1;32m----> 1\u001b[1;33m \u001b[0mcursor\u001b[0m\u001b[1;33m.\u001b[0m\u001b[0mexecute\u001b[0m\u001b[1;33m(\u001b[0m\u001b[1;34m\"DROP TABLE IF EXISTS pets\"\u001b[0m\u001b[1;33m)\u001b[0m\u001b[1;33m\u001b[0m\u001b[0m\n\u001b[0m\u001b[0;32m      2\u001b[0m \u001b[0mconn\u001b[0m\u001b[1;33m.\u001b[0m\u001b[0mcommit\u001b[0m\u001b[1;33m(\u001b[0m\u001b[1;33m)\u001b[0m\u001b[1;33m\u001b[0m\u001b[0m\n",
      "\u001b[1;31mOperationalError\u001b[0m: database is locked"
     ]
    }
   ],
   "source": [
    "cursor.execute(\"DROP TABLE IF EXISTS pets\")\n",
    "conn.commit()"
   ]
  },
  {
   "cell_type": "markdown",
   "metadata": {},
   "source": [
    "* 테이블 만들기"
   ]
  },
  {
   "cell_type": "code",
   "execution_count": null,
   "metadata": {
    "collapsed": false
   },
   "outputs": [],
   "source": [
    "cursor.execute('''CREATE TABLE pets (\n",
    "    name VARCHAR(20),\n",
    "    owner VARCHAR(20),\n",
    "    species VARCHAR(20),\n",
    "    sex CHAR(1),\n",
    "    birth DATE,\n",
    "    death DATE)''')"
   ]
  },
  {
   "cell_type": "markdown",
   "metadata": {},
   "source": [
    "#### 레코드 삽입하기\n",
    "* 테이블에 데이터 추가"
   ]
  },
  {
   "cell_type": "code",
   "execution_count": null,
   "metadata": {
    "collapsed": false
   },
   "outputs": [],
   "source": [
    "cursor.execute(\"INSERT INTO pets VALUES ('누룽이', '노선화', '고양이', '암컷', '1993-02-04', NULL)\")"
   ]
  },
  {
   "cell_type": "markdown",
   "metadata": {},
   "source": [
    "#### SQL 스크립트 실행하기\n",
    "* 여러 개의 SQL 문으로 구성된 스크립트를 한 번에 실행하려면 executescript() 메서드 사용"
   ]
  },
  {
   "cell_type": "code",
   "execution_count": null,
   "metadata": {
    "collapsed": false
   },
   "outputs": [],
   "source": [
    "cursor.executescript(\"\"\"\n",
    "INSERT INTO pets VALUES ('하늘이', '서규희', '고양이', '수컷', '1994-03-17', NULL);\n",
    "INSERT INTO pets VALUES ('나미', '노선화', '강아지', '암컷', '1989-05-13', NULL);\n",
    "INSERT INTO pets VALUES ('스누피', '복현선', '강아지', '수컷', '1990-08-27', NULL);\n",
    "INSERT INTO pets VALUES ('달키', '진신욱', '강아지', '수컷', '1989-08-31', NULL);\n",
    "INSERT INTO pets VALUES ('찰리', '곽소희', '비둘기', '암컷', '1998-09-11', NULL);\n",
    "INSERT INTO pets VALUES ('Whistler', '곽소희', '비둘기', '암컷', '1997-12-09', NULL);\n",
    "INSERT INTO pets VALUES ('샹크스', '태하진', '뱀', '수컷', '1996-04-29', NULL);\n",
    "\"\"\")"
   ]
  },
  {
   "cell_type": "markdown",
   "metadata": {},
   "source": [
    "#### 레코드 삽입이 끝나면 commit() 메서드로 트랜잭션을 커밋"
   ]
  },
  {
   "cell_type": "code",
   "execution_count": null,
   "metadata": {
    "collapsed": true
   },
   "outputs": [],
   "source": [
    "conn.commit()"
   ]
  },
  {
   "cell_type": "markdown",
   "metadata": {},
   "source": [
    "#### 레코드 검색"
   ]
  },
  {
   "cell_type": "code",
   "execution_count": 57,
   "metadata": {
    "collapsed": false
   },
   "outputs": [
    {
     "data": {
      "text/plain": [
       "<sqlite3.Cursor at 0x4aab340>"
      ]
     },
     "execution_count": 57,
     "metadata": {},
     "output_type": "execute_result"
    }
   ],
   "source": [
    "cursor.execute('select * from pets')"
   ]
  },
  {
   "cell_type": "markdown",
   "metadata": {},
   "source": [
    "#### 질의를 해서 얻은 결과 레코드를 읽어 보기\n",
    "#### fetchone() : 결과 레코드를 한 개 가져온다."
   ]
  },
  {
   "cell_type": "code",
   "execution_count": 58,
   "metadata": {
    "collapsed": false
   },
   "outputs": [
    {
     "data": {
      "text/plain": [
       "('누룽이', '노선화', '고양이', '암컷', '1993-02-04', None)"
      ]
     },
     "execution_count": 58,
     "metadata": {},
     "output_type": "execute_result"
    }
   ],
   "source": [
    "cursor.fetchone()"
   ]
  },
  {
   "cell_type": "markdown",
   "metadata": {},
   "source": [
    "#### fetchmany(n) : 결과 레코드를 n개 가져온다."
   ]
  },
  {
   "cell_type": "code",
   "execution_count": 59,
   "metadata": {
    "collapsed": false
   },
   "outputs": [
    {
     "name": "stdout",
     "output_type": "stream",
     "text": [
      "('하늘이', '서규희', '고양이', '수컷', '1994-03-17', None)\n",
      "('나미', '노선화', '강아지', '암컷', '1989-05-13', None)\n",
      "('스누피', '복현선', '강아지', '수컷', '1990-08-27', None)\n"
     ]
    }
   ],
   "source": [
    "for rec in cursor.fetchmany(3):\n",
    "    print(rec)"
   ]
  },
  {
   "cell_type": "markdown",
   "metadata": {},
   "source": [
    "#### fetchall() : 나머지 결과 레코드를 가져온다."
   ]
  },
  {
   "cell_type": "code",
   "execution_count": 60,
   "metadata": {
    "collapsed": false,
    "scrolled": true
   },
   "outputs": [
    {
     "name": "stdout",
     "output_type": "stream",
     "text": [
      "('달키', '진신욱', '강아지', '수컷', '1989-08-31', None)\n",
      "('찰리', '곽소희', '비둘기', '암컷', '1998-09-11', None)\n",
      "('Whistler', '곽소희', '비둘기', '암컷', '1997-12-09', None)\n",
      "('샹크스', '태하진', '뱀', '수컷', '1996-04-29', None)\n"
     ]
    }
   ],
   "source": [
    "for rec in cursor.fetchall():\n",
    "    print(rec)"
   ]
  },
  {
   "cell_type": "markdown",
   "metadata": {},
   "source": [
    "* 테이블 없애기"
   ]
  },
  {
   "cell_type": "markdown",
   "metadata": {
    "collapsed": true
   },
   "source": [
    "#### close() : 커서 객체를 닫는다."
   ]
  },
  {
   "cell_type": "code",
   "execution_count": 80,
   "metadata": {
    "collapsed": false
   },
   "outputs": [],
   "source": [
    "cursor.execute('DROP TABLE pets')\n",
    "cursor.close()"
   ]
  },
  {
   "cell_type": "code",
   "execution_count": 77,
   "metadata": {
    "collapsed": false
   },
   "outputs": [
    {
     "data": {
      "text/plain": [
       "('누룽이', '노선화', '고양이', '암컷', '1993-02-04', None)"
      ]
     },
     "execution_count": 77,
     "metadata": {},
     "output_type": "execute_result"
    }
   ],
   "source": [
    "conn = sqlite3.connect(\"pets_2.db\")    # pets.db 생성\n",
    "cursor = conn.cursor()\n",
    "cursor.execute(\"DROP TABLE IF EXISTS pets\")\n",
    "cursor.execute('''CREATE TABLE pets (\n",
    "    name VARCHAR(20),\n",
    "    owner VARCHAR(20),\n",
    "    species VARCHAR(20),\n",
    "    sex CHAR(1),\n",
    "    birth DATE,\n",
    "    death DATE)''')\n",
    "cursor.execute(\"INSERT INTO pets VALUES ('누룽이', '노선화', '고양이', '암컷', '1993-02-04', NULL)\")\n",
    "cursor.executescript(\"\"\"\n",
    "INSERT INTO pets VALUES ('하늘이', '서규희', '고양이', '수컷', '1994-03-17', NULL);\n",
    "INSERT INTO pets VALUES ('나미', '노선화', '강아지', '암컷', '1989-05-13', NULL);\n",
    "INSERT INTO pets VALUES ('스누피', '복현선', '강아지', '수컷', '1990-08-27', NULL);\n",
    "INSERT INTO pets VALUES ('달키', '진신욱', '강아지', '수컷', '1989-08-31', NULL);\n",
    "INSERT INTO pets VALUES ('찰리', '곽소희', '비둘기', '암컷', '1998-09-11', NULL);\n",
    "INSERT INTO pets VALUES ('Whistler', '곽소희', '비둘기', '암컷', '1997-12-09', NULL);\n",
    "INSERT INTO pets VALUES ('샹크스', '태하진', '뱀', '수컷', '1996-04-29', NULL);\n",
    "\"\"\")\n",
    "conn.commit()\n",
    "cursor.execute('select * from pets')\n",
    "cursor.fetchone()"
   ]
  },
  {
   "cell_type": "markdown",
   "metadata": {},
   "source": [
    "#### 데이터 수정"
   ]
  },
  {
   "cell_type": "code",
   "execution_count": 78,
   "metadata": {
    "collapsed": false
   },
   "outputs": [
    {
     "data": {
      "text/plain": [
       "('누룽이', '태하진', '고양이', '암컷', '1993-02-04', None)"
      ]
     },
     "execution_count": 78,
     "metadata": {},
     "output_type": "execute_result"
    }
   ],
   "source": [
    "cursor.execute(\"UPDATE pets SET owner = '태하진'\")\n",
    "conn.commit()\n",
    "cursor.execute('select * from pets')\n",
    "cursor.fetchone()"
   ]
  },
  {
   "cell_type": "markdown",
   "metadata": {},
   "source": [
    "#### 데이터 삭제"
   ]
  },
  {
   "cell_type": "code",
   "execution_count": 79,
   "metadata": {
    "collapsed": false
   },
   "outputs": [
    {
     "name": "stdout",
     "output_type": "stream",
     "text": [
      "('나미', '태하진', '강아지', '암컷', '1989-05-13', None)\n",
      "('스누피', '태하진', '강아지', '수컷', '1990-08-27', None)\n",
      "('달키', '태하진', '강아지', '수컷', '1989-08-31', None)\n",
      "('찰리', '태하진', '비둘기', '암컷', '1998-09-11', None)\n",
      "('Whistler', '태하진', '비둘기', '암컷', '1997-12-09', None)\n",
      "('샹크스', '태하진', '뱀', '수컷', '1996-04-29', None)\n"
     ]
    }
   ],
   "source": [
    "cursor.execute(\"DELETE FROM pets WHERE species = '고양이'\")\n",
    "conn.commit()\n",
    "cursor.execute('select * from pets')\n",
    "for rec in cursor.fetchall():\n",
    "    print(rec)"
   ]
  },
  {
   "cell_type": "code",
   "execution_count": null,
   "metadata": {
    "collapsed": true
   },
   "outputs": [],
   "source": []
  }
 ],
 "metadata": {
  "kernelspec": {
   "display_name": "Python 3",
   "language": "python",
   "name": "python3"
  },
  "language_info": {
   "codemirror_mode": {
    "name": "ipython",
    "version": 3
   },
   "file_extension": ".py",
   "mimetype": "text/x-python",
   "name": "python",
   "nbconvert_exporter": "python",
   "pygments_lexer": "ipython3",
   "version": "3.4.3"
  }
 },
 "nbformat": 4,
 "nbformat_minor": 0
}
