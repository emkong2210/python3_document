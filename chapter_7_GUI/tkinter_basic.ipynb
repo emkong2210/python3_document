{
 "cells": [
  {
   "cell_type": "markdown",
   "metadata": {},
   "source": [
    "# TkInter 를 이용한 GUI 프로그래밍\n",
    "* TkInter 는 Tk Interface이다.\n",
    "* 파이썬 설치시 기본으로 설치되는 표준 모듈\n",
    "* Tk 는 거의 모든 Unix 시스템에서 사용할 수 있다."
   ]
  },
  {
   "cell_type": "code",
   "execution_count": 1,
   "metadata": {
    "collapsed": true
   },
   "outputs": [],
   "source": [
    "import tkinter as tk\n",
    "\n",
    "class Example(tk.Frame):\n",
    "    def __init__(self, parent):\n",
    "        tk.Frame.__init__(self, parent, background=\"white\")\n",
    "        self.parent = parent\n",
    "        self.init_ui()\n",
    "\n",
    "    def init_ui(self):\n",
    "        self.parent.title(\"임덕규\")\n",
    "        self.pack(fill=tk.BOTH, expand=1)\n",
    "\n",
    "\n",
    "def main():\n",
    "    root = tk.Tk() # 메인윈도우\n",
    "    root.geometry(\"250x150+300+300\")  # 윈도우 크기위치 변경\n",
    "    app = Example(root)\n",
    "    root.mainloop()\n",
    "\n",
    "\n",
    "if __name__ == '__main__':\n",
    "    main()"
   ]
  },
  {
   "cell_type": "code",
   "execution_count": null,
   "metadata": {
    "collapsed": true
   },
   "outputs": [],
   "source": []
  }
 ],
 "metadata": {
  "kernelspec": {
   "display_name": "Python 3",
   "language": "python",
   "name": "python3"
  },
  "language_info": {
   "codemirror_mode": {
    "name": "ipython",
    "version": 3
   },
   "file_extension": ".py",
   "mimetype": "text/x-python",
   "name": "python",
   "nbconvert_exporter": "python",
   "pygments_lexer": "ipython3",
   "version": "3.4.3"
  }
 },
 "nbformat": 4,
 "nbformat_minor": 0
}
