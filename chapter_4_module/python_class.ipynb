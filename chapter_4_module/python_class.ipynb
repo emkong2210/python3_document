{
 "cells": [
  {
   "cell_type": "markdown",
   "metadata": {},
   "source": [
    "# 클래스\n",
    "## 파이썬 클래스\n",
    "* 클래스는 새로운 이름 공간을 지원하는 단위이다.\n",
    "* 이 이름 공간에는 함수와 변수가 포함될 수 있다.\n",
    "* 클래스 이름과 클래스가 생성하는 **인스턴스**의 이름 공간을 각각 갖는다\n",
    "* 클래스를 정의하는 것은 새로운 자료형을 만드는 것\n",
    "\n",
    "### 클래스와 이름 공간\n",
    "* 클래스는 하나의 이름 공간이다."
   ]
  },
  {
   "cell_type": "code",
   "execution_count": 1,
   "metadata": {
    "collapsed": false
   },
   "outputs": [
    {
     "data": {
      "text/plain": [
       "1"
      ]
     },
     "execution_count": 1,
     "metadata": {},
     "output_type": "execute_result"
    }
   ],
   "source": [
    "class S1:\n",
    "    a = 1\n",
    "\n",
    "S1.a"
   ]
  },
  {
   "cell_type": "code",
   "execution_count": 2,
   "metadata": {
    "collapsed": false
   },
   "outputs": [
    {
     "data": {
      "text/plain": [
       "2"
      ]
     },
     "execution_count": 2,
     "metadata": {},
     "output_type": "execute_result"
    }
   ],
   "source": [
    "S1.b = 2  # 클래스 이름 공간에 새로운 이름을 만든다.\n",
    "S1.b"
   ]
  },
  {
   "cell_type": "markdown",
   "metadata": {},
   "source": [
    "#### 클래스 이름 공간 속성 살펴보기"
   ]
  },
  {
   "cell_type": "code",
   "execution_count": 5,
   "metadata": {
    "collapsed": false
   },
   "outputs": [
    {
     "name": "stdout",
     "output_type": "stream",
     "text": [
      "['__class__', '__delattr__', '__dict__', '__dir__', '__doc__', '__eq__', '__format__', '__ge__', '__getattribute__', '__gt__', '__hash__', '__init__', '__le__', '__lt__', '__module__', '__ne__', '__new__', '__reduce__', '__reduce_ex__', '__repr__', '__setattr__', '__sizeof__', '__str__', '__subclasshook__', '__weakref__', 'a', 'b']\n"
     ]
    }
   ],
   "source": [
    "print(dir(S1))"
   ]
  },
  {
   "cell_type": "code",
   "execution_count": 6,
   "metadata": {
    "collapsed": false
   },
   "outputs": [
    {
     "data": {
      "text/plain": [
       "True"
      ]
     },
     "execution_count": 6,
     "metadata": {},
     "output_type": "execute_result"
    }
   ],
   "source": [
    "'b' in dir(S1)  # 변수 b가 생성되었는지 확인"
   ]
  },
  {
   "cell_type": "code",
   "execution_count": 7,
   "metadata": {
    "collapsed": true
   },
   "outputs": [],
   "source": [
    "del S1.b # S1 이름 공간에 있는 변수 b를 삭제"
   ]
  },
  {
   "cell_type": "code",
   "execution_count": null,
   "metadata": {
    "collapsed": true
   },
   "outputs": [],
   "source": [
    "'b' in dir(S1)  # 확인"
   ]
  },
  {
   "cell_type": "markdown",
   "metadata": {},
   "source": [
    "#### 클래스 인스턴스\n",
    "* 클래스의 실제 객체\n",
    "* 인스턴스 객체도 독자적인 이름 공간을 갖는다."
   ]
  },
  {
   "cell_type": "code",
   "execution_count": 8,
   "metadata": {
    "collapsed": false
   },
   "outputs": [
    {
     "data": {
      "text/plain": [
       "10"
      ]
     },
     "execution_count": 8,
     "metadata": {},
     "output_type": "execute_result"
    }
   ],
   "source": [
    "x = S1()  # S1의 인스턴스 생성\n",
    "x.a = 10\n",
    "x.a"
   ]
  },
  {
   "cell_type": "code",
   "execution_count": 9,
   "metadata": {
    "collapsed": false
   },
   "outputs": [
    {
     "data": {
      "text/plain": [
       "1"
      ]
     },
     "execution_count": 9,
     "metadata": {},
     "output_type": "execute_result"
    }
   ],
   "source": [
    "S1.a  # 클래스의 이름 공간과 인스턴스의 이름 공간은 다르다."
   ]
  },
  {
   "cell_type": "code",
   "execution_count": 10,
   "metadata": {
    "collapsed": false
   },
   "outputs": [
    {
     "data": {
      "text/plain": [
       "300"
      ]
     },
     "execution_count": 10,
     "metadata": {},
     "output_type": "execute_result"
    }
   ],
   "source": [
    "y = S1()  # 또다른 인스턴스 생성\n",
    "y.a = 300\n",
    "y.a"
   ]
  },
  {
   "cell_type": "code",
   "execution_count": 11,
   "metadata": {
    "collapsed": false
   },
   "outputs": [
    {
     "data": {
      "text/plain": [
       "10"
      ]
     },
     "execution_count": 11,
     "metadata": {},
     "output_type": "execute_result"
    }
   ],
   "source": [
    "x.a  # 인스턴스 x 공간의 이름 a를 확인"
   ]
  },
  {
   "cell_type": "code",
   "execution_count": 12,
   "metadata": {
    "collapsed": false
   },
   "outputs": [
    {
     "data": {
      "text/plain": [
       "1"
      ]
     },
     "execution_count": 12,
     "metadata": {},
     "output_type": "execute_result"
    }
   ],
   "source": [
    "S1.a  # 클래스 이름 공간의 이름 a를 확인"
   ]
  },
  {
   "cell_type": "markdown",
   "metadata": {},
   "source": [
    "### 상속\n",
    "* 클래스는 상속이 가능하다.\n",
    "* 상속받은 클래스는 상속해 준 클래스(상위 클래스)의 모든 속성을 자동으로 물려 받는다.\n",
    "* 하위 클래스는 필요한 개별적인 속성만 정의하면 된다."
   ]
  },
  {
   "cell_type": "code",
   "execution_count": 14,
   "metadata": {
    "collapsed": false
   },
   "outputs": [
    {
     "name": "stdout",
     "output_type": "stream",
     "text": [
      "base\n"
     ]
    }
   ],
   "source": [
    "class A:\n",
    "    def f(self):\n",
    "        print('base')\n",
    "\n",
    "class B(A):\n",
    "    def g(self):\n",
    "        print('inheritance')\n",
    "    pass\n",
    "\n",
    "b = B()\n",
    "b.f()"
   ]
  },
  {
   "cell_type": "markdown",
   "metadata": {},
   "source": [
    "### 생성자, 소멸자\n",
    "* 생성자는 인스턴스 생성시 자동으로 실행되는 함수\n",
    "    * 클래스 생성시 인수를 받을 수 있다.\n",
    "* 소멸자는 인스턴스사 소멸될때 실행되는 함수\n",
    "    * 클래스 소멸시 실행"
   ]
  },
  {
   "cell_type": "code",
   "execution_count": 39,
   "metadata": {
    "collapsed": false
   },
   "outputs": [
    {
     "name": "stdout",
     "output_type": "stream",
     "text": [
      "응애! 내가 임덕규라니!!!\n",
      "내 이름은 임덕규.\n",
      "으앙\n",
      "앙대요!!\n"
     ]
    }
   ],
   "source": [
    "class 인간:\n",
    "    def __init__(self, s):\n",
    "        print('응애! 내가 {0}라니!!!'.format(s))\n",
    "        \n",
    "    def __del__(self):\n",
    "        print('으앙')\n",
    "        \n",
    "class 마법사(인간):\n",
    "    def __init__(self, 이름):\n",
    "        인간.__init__(self, 이름)\n",
    "        print('내 이름은 {0}.'.format(이름))\n",
    "\n",
    "    def __del__(self):\n",
    "        print('앙대요!!')\n",
    "        \n",
    "p = 마법사('임덕규')\n",
    "del(p)"
   ]
  },
  {
   "cell_type": "markdown",
   "metadata": {},
   "source": [
    "#### 생성자의 필요성\n",
    "* 생성자에 클래스에서 사용하는 기본적인 멤버 변수를 미리 초기화 시켜두는게 좋다.\n",
    "* 만들어 두지 않는 멤버를 호출하려하면 속성에러가 난다."
   ]
  },
  {
   "cell_type": "code",
   "execution_count": 61,
   "metadata": {
    "collapsed": false
   },
   "outputs": [
    {
     "data": {
      "text/plain": [
       "'임덕규'"
      ]
     },
     "execution_count": 61,
     "metadata": {},
     "output_type": "execute_result"
    }
   ],
   "source": [
    "class A:\n",
    "    def __init__(self):\n",
    "        self.x = '임덕규'\n",
    "        pass  # 아직 self.x 가 없음\n",
    "    def get_x(self):\n",
    "        return self.x\n",
    "    \n",
    "v = A()\n",
    "v.get_x()"
   ]
  },
  {
   "cell_type": "markdown",
   "metadata": {},
   "source": [
    "#### 이름공간에 대한 이해"
   ]
  },
  {
   "cell_type": "code",
   "execution_count": 51,
   "metadata": {
    "collapsed": false
   },
   "outputs": [
    {
     "name": "stdout",
     "output_type": "stream",
     "text": [
      "#1 True\n",
      "#2 False\n"
     ]
    }
   ],
   "source": [
    "class A:\n",
    "    count = 0\n",
    "    def __init__(self):\n",
    "        self.num = 0\n",
    "        self.count += 1\n",
    "    \n",
    "    def __del__(self):\n",
    "        self.count -= 1\n",
    "        \n",
    "        \n",
    "a = A()\n",
    "a.abc = 1  # 인스턴스 a 에 멤버 변수 abc를 추가\n",
    "\n",
    "print('#1', 'abc' in dir(a))  # 클래스 A의 인스턴스 a에 변수 abc가 있는지 확인\n",
    "print('#2', 'abc' in dir(A))  # 클래스에 A가 추가 되었는지 확인인\n"
   ]
  },
  {
   "cell_type": "markdown",
   "metadata": {},
   "source": [
    "### 클래스 내부에서의 메서드 호출\n",
    "* 클래스 내부에서 인스턴스 멤버나 클래스 메서드를 호출할 때는 인수 self를 사용해야 한다."
   ]
  },
  {
   "cell_type": "code",
   "execution_count": 57,
   "metadata": {
    "collapsed": false
   },
   "outputs": [
    {
     "name": "stdout",
     "output_type": "stream",
     "text": [
      "1\n",
      "나 부른거 아닐텐데?\n"
     ]
    }
   ],
   "source": [
    "def get_x():\n",
    "    return '나 부른거 아닐텐데?'\n",
    "    \n",
    "class MyClass:\n",
    "    def __init__(self):\n",
    "        self.x = 0\n",
    "\n",
    "    def set_x(self, x):\n",
    "        self.x = x\n",
    "    \n",
    "    def get_x(self):\n",
    "        return self.x\n",
    "    \n",
    "    def incr(self):\n",
    "        self.x += 1\n",
    "        return self.get_x()\n",
    "\n",
    "    def decr(self):\n",
    "        self.x -=1\n",
    "        return get_x()\n",
    "    \n",
    "a = MyClass()\n",
    "print(a.incr())\n",
    "print(a.decr())"
   ]
  },
  {
   "cell_type": "markdown",
   "metadata": {},
   "source": [
    "### 연산자 중복(연산자 오버로딩)"
   ]
  },
  {
   "cell_type": "markdown",
   "metadata": {},
   "source": [
    "* 클래스는 연산자 중복(오버로딩)을 지원\n",
    "* 파이썬에서 사용하는 모든 연산자(각종 산술, 논리 연산자, 슬라이싱, 인덱싱)"
   ]
  },
  {
   "cell_type": "code",
   "execution_count": 29,
   "metadata": {
    "collapsed": false
   },
   "outputs": [
    {
     "name": "stdout",
     "output_type": "stream",
     "text": [
      "add 3 called\n"
     ]
    },
    {
     "data": {
      "text/plain": [
       "13"
      ]
     },
     "execution_count": 29,
     "metadata": {},
     "output_type": "execute_result"
    }
   ],
   "source": [
    "class MyClass:\n",
    "    def __init__(self, x):\n",
    "        self.x = x  # self.x 에 넣어 주지 않으면 x는 소멸됨\n",
    "        \n",
    "    def __add__(self, x):\n",
    "        print('add {} called'.format(x))\n",
    "        return self.x + x\n",
    "    \n",
    "a = MyClass(10)\n",
    "a + 3"
   ]
  },
  {
   "cell_type": "markdown",
   "metadata": {},
   "source": [
    "### 용어\n",
    "* 클래스\n",
    "    * 클래스문으로 정의 하며, 멤버와 메서드를 가지는 객체이다.\n",
    "* 클래스 객체\n",
    "    * 클래스와 같은 의미로 사용한다.\n",
    "* 클래스 인스턴스\n",
    "    * 클래스를 호출하여 생성된 객체이다.\n",
    "* 멤버\n",
    "    * 클래스 혹은 클래스 인스턴스 공간에 정의된 변수\n",
    "* 메서드\n",
    "    * 클래스 공간에 정의된 함수"
   ]
  },
  {
   "cell_type": "code",
   "execution_count": null,
   "metadata": {
    "collapsed": true
   },
   "outputs": [],
   "source": []
  }
 ],
 "metadata": {
  "kernelspec": {
   "display_name": "Python 3",
   "language": "python",
   "name": "python3"
  },
  "language_info": {
   "codemirror_mode": {
    "name": "ipython",
    "version": 3
   },
   "file_extension": ".py",
   "mimetype": "text/x-python",
   "name": "python",
   "nbconvert_exporter": "python",
   "pygments_lexer": "ipython3",
   "version": "3.4.3"
  }
 },
 "nbformat": 4,
 "nbformat_minor": 0
}
