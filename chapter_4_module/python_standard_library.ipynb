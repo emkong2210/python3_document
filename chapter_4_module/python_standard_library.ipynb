{
 "cells": [
  {
   "cell_type": "markdown",
   "metadata": {},
   "source": [
    "# 표준 라이브러리\n",
    "* 파이썬은 원하는 거의 모든 기능에 대해 방대한 표준 라이브러리를 제공한다.\n",
    "* 단순한 기능을 제어하는 함수를 스스로 만들고 있다면 당장 그만두고 표준 라이브러리를 먼저 보자."
   ]
  },
  {
   "cell_type": "markdown",
   "metadata": {},
   "source": [
    "---\n",
    "## atexit\n",
    "프로그램이 종료될 때 호출되는 함수를 등록할 수 있게 해 준다.\n",
    "### 예제 1\n",
    "```python\n",
    "atexit.register(func, *args, **kargs)\n",
    "```\n",
    "* func 는 종료될 때 실행될 함수\n",
    "* \\*args와 \\**kargs를 통하여 인자를 전달 할 수 있다."
   ]
  },
  {
   "cell_type": "code",
   "execution_count": 2,
   "metadata": {
    "collapsed": false
   },
   "outputs": [
    {
     "data": {
      "text/plain": [
       "<function __main__.print_end>"
      ]
     },
     "execution_count": 2,
     "metadata": {},
     "output_type": "execute_result"
    }
   ],
   "source": [
    "import atexit\n",
    "\n",
    "def print_end():\n",
    "    print('end')\n",
    "\n",
    "atexit.register(print_end)  # print_end를 등록"
   ]
  },
  {
   "cell_type": "markdown",
   "metadata": {},
   "source": [
    "### 예제 2"
   ]
  },
  {
   "cell_type": "code",
   "execution_count": 5,
   "metadata": {
    "collapsed": false
   },
   "outputs": [
    {
     "data": {
      "text/plain": [
       "<function __main__.goodbye>"
      ]
     },
     "execution_count": 5,
     "metadata": {},
     "output_type": "execute_result"
    }
   ],
   "source": [
    "def goodbye(name, adjective):\n",
    "    print('Goodbye, {0}, it was {1} to meet you.'.format(name, adjective))\n",
    "\n",
    "atexit.register(goodbye, 'Raven', 'nice')  \n",
    "# 또는\n",
    "atexit.register(goodbye, name='Raven', adjective='nice')"
   ]
  },
  {
   "cell_type": "markdown",
   "metadata": {},
   "source": [
    "### 예제 3"
   ]
  },
  {
   "cell_type": "code",
   "execution_count": 6,
   "metadata": {
    "collapsed": true
   },
   "outputs": [],
   "source": [
    "@atexit.register  # 장식자 이용\n",
    "def goodbye():\n",
    "    print('good bye')"
   ]
  },
  {
   "cell_type": "code",
   "execution_count": null,
   "metadata": {
    "collapsed": true
   },
   "outputs": [],
   "source": []
  }
 ],
 "metadata": {
  "kernelspec": {
   "display_name": "Python 3",
   "language": "python",
   "name": "python3"
  },
  "language_info": {
   "codemirror_mode": {
    "name": "ipython",
    "version": 3
   },
   "file_extension": ".py",
   "mimetype": "text/x-python",
   "name": "python",
   "nbconvert_exporter": "python",
   "pygments_lexer": "ipython3",
   "version": "3.4.3"
  }
 },
 "nbformat": 4,
 "nbformat_minor": 0
}
