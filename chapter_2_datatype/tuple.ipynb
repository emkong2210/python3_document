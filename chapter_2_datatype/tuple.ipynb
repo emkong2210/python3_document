{
 "cells": [
  {
   "cell_type": "markdown",
   "metadata": {},
   "source": [
    "# 튜플\n",
    "변경 가능하지 않은 데이터의 묶음인 튜플을 알아본다.\n",
    "> *리스트와 유사하지만 튜플이 한번 만들어지면 값은 변경할 수 없다.*\n",
    "\n",
    "***\n",
    "\n",
    "## 튜플의 연산\n",
    "\n",
    "### 특징\n",
    "* 임의의 객체들이 순서를 가지는 모임(리스트와 유사한 면이 많음).\n",
    "* 변경 불가능한 자료형.\n",
    "* 리스트가 가지고 있는 것만큼 다양한 메서드가 없다.\n",
    "* 시퀀스 자료형이므로 시퀀스형의 인덱싱과 슬라이싱, 연결하기, 반복하기, 길이정보 등의 일반적인 연산을 모두 가진다.\n",
    "* 튜플은 () (소괄호)로 표현.\n",
    "\n",
    "#### 소괄호 () 를 사용하지 않아도 쉼표 , 로 데이터가 구분되면 튜플로 처리한다.\n",
    "```\n",
    "t = 1, 2, 3\n",
    "```\n",
    "\n",
    "#### 소괄호 () 는 수식에서의 ()와 혼동될 가능성이 있기 때문에 주의 해야한다.\n",
    "```\n",
    "r = (1)은 r = 1로 해석\n",
    "데이터가 하나인 튜플은 괄호의 사용과 상관없이 r = (1,) 또는 r = 1,\n",
    "```"
   ]
  },
  {
   "cell_type": "code",
   "execution_count": 5,
   "metadata": {},
   "outputs": [
    {
     "name": "stdout",
     "output_type": "stream",
     "text": [
      "<class 'int'>\n"
     ]
    }
   ],
   "source": [
    "r = (1)\n",
    "print(type(r))"
   ]
  },
  {
   "cell_type": "code",
   "execution_count": 6,
   "metadata": {},
   "outputs": [
    {
     "data": {
      "text/plain": [
       "tuple"
      ]
     },
     "execution_count": 6,
     "output_type": "execute_result",
     "metadata": {}
    }
   ],
   "source": [
    "# 데이터가 한 개일 떄는 반드시 쉼표가 있어야 한다.\n",
    "r = (1,)\n",
    "type(r)"
   ]
  },
  {
   "cell_type": "code",
   "execution_count": 7,
   "metadata": {},
   "outputs": [
    {
     "data": {
      "text/plain": [
       "tuple"
      ]
     },
     "execution_count": 7,
     "output_type": "execute_result",
     "metadata": {}
    }
   ],
   "source": [
    "# 괄호는 없어도 쉼표는 있어야 한다.\n",
    "r = 1,\n",
    "type(r)"
   ]
  },
  {
   "cell_type": "markdown",
   "metadata": {},
   "source": [
    "#### 시퀀스 자료형의 일반적인 연산을 사용한 예"
   ]
  },
  {
   "cell_type": "code",
   "execution_count": 9,
   "metadata": {},
   "outputs": [
    {
     "data": {
      "text/plain": [
       "(1, 2, 3, 1, 2, 3)"
      ]
     },
     "execution_count": 9,
     "output_type": "execute_result",
     "metadata": {}
    }
   ],
   "source": [
    "t = 1, 2, 3\n",
    "# 반복하기\n",
    "t * 2"
   ]
  },
  {
   "cell_type": "code",
   "execution_count": 10,
   "metadata": {},
   "outputs": [
    {
     "data": {
      "text/plain": [
       "(1, 2, 3, 'PyKUG', 'users')"
      ]
     },
     "execution_count": 10,
     "output_type": "execute_result",
     "metadata": {}
    }
   ],
   "source": [
    "# 연결하기\n",
    "t + ('PyKUG', 'users')"
   ]
  },
  {
   "cell_type": "code",
   "execution_count": 11,
   "metadata": {},
   "outputs": [
    {
     "name": "stdout",
     "output_type": "stream",
     "text": [
      "1 (2, 3)\n"
     ]
    }
   ],
   "source": [
    "# 인덱싱과 슬라이싱\n",
    "print(t[0], t[1:3])"
   ]
  },
  {
   "cell_type": "code",
   "execution_count": 12,
   "metadata": {},
   "outputs": [
    {
     "data": {
      "text/plain": [
       "3"
      ]
     },
     "execution_count": 12,
     "output_type": "execute_result",
     "metadata": {}
    }
   ],
   "source": [
    "# 길이 정보\n",
    "len(t)"
   ]
  },
  {
   "cell_type": "code",
   "execution_count": 13,
   "metadata": {},
   "outputs": [
    {
     "data": {
      "text/plain": [
       "True"
      ]
     },
     "execution_count": 13,
     "output_type": "execute_result",
     "metadata": {}
    }
   ],
   "source": [
    "# 멤버 검사\n",
    "1 in t"
   ]
  },
  {
   "cell_type": "markdown",
   "metadata": {},
   "source": [
    "#### 변경이 불가능한 자료형이어서 값을 변경할 수는 없다."
   ]
  },
  {
   "cell_type": "code",
   "execution_count": 14,
   "metadata": {},
   "outputs": [
    {
     "ename": "TypeError",
     "evalue": "'tuple' object does not support item assignment",
     "output_type": "error",
     "traceback": [
      "\u001b[1;31m---------------------------------------------------------------------------\u001b[0m",
      "\u001b[1;31mTypeError\u001b[0m                                 Traceback (most recent call last)",
      "\u001b[1;32m<ipython-input-14-bbc6e875ba8a>\u001b[0m in \u001b[0;36m<module>\u001b[1;34m()\u001b[0m\n\u001b[0;32m      1\u001b[0m \u001b[1;31m# 허용이 안 되며 에러가 발생한다.\u001b[0m\u001b[1;33m\u001b[0m\u001b[1;33m\u001b[0m\u001b[0m\n\u001b[1;32m----> 2\u001b[1;33m \u001b[0mt\u001b[0m\u001b[1;33m[\u001b[0m\u001b[1;36m0\u001b[0m\u001b[1;33m]\u001b[0m \u001b[1;33m=\u001b[0m \u001b[1;36m100\u001b[0m\u001b[1;33m\u001b[0m\u001b[0m\n\u001b[0m",
      "\u001b[1;31mTypeError\u001b[0m: 'tuple' object does not support item assignment"
     ]
    }
   ],
   "source": [
    "# 허용이 안 되며 에러가 발생한다.\n",
    "t[0] = 100"
   ]
  },
  {
   "cell_type": "markdown",
   "metadata": {},
   "source": [
    "#### 검색에 관련된 메서드"
   ]
  },
  {
   "cell_type": "code",
   "execution_count": 15,
   "metadata": {},
   "outputs": [
    {
     "data": {
      "text/plain": [
       "3"
      ]
     },
     "execution_count": 15,
     "output_type": "execute_result",
     "metadata": {}
    }
   ],
   "source": [
    "t = (1, 2, 3, 2, 2, 3)\n",
    "# 2가 몇 개 있는가?\n",
    "t.count(2)"
   ]
  },
  {
   "cell_type": "code",
   "execution_count": 16,
   "metadata": {},
   "outputs": [
    {
     "data": {
      "text/plain": [
       "1"
      ]
     },
     "execution_count": 16,
     "output_type": "execute_result",
     "metadata": {}
    }
   ],
   "source": [
    "# 첫 번째 2의 위치는?\n",
    "t.index(2)"
   ]
  },
  {
   "cell_type": "code",
   "execution_count": 18,
   "metadata": {},
   "outputs": [
    {
     "data": {
      "text/plain": [
       "3"
      ]
     },
     "execution_count": 18,
     "output_type": "execute_result",
     "metadata": {}
    }
   ],
   "source": [
    "# 2 위치부터 검색해 나간다.\n",
    "t.index(2, 2)"
   ]
  },
  {
   "cell_type": "markdown",
   "metadata": {},
   "source": [
    "#### 중첩 가능"
   ]
  },
  {
   "cell_type": "code",
   "execution_count": 19,
   "metadata": {},
   "outputs": [
    {
     "data": {
      "text/plain": [
       "((12345, 54321, 'hello!'), (1, 2, 3, 4, 5))"
      ]
     },
     "execution_count": 19,
     "output_type": "execute_result",
     "metadata": {}
    }
   ],
   "source": [
    "t = (12345, 54321, 'hello!')\n",
    "u = t, (1, 2, 3, 4, 5)\n",
    "u"
   ]
  },
  {
   "cell_type": "markdown",
   "metadata": {},
   "source": [
    "#### 좌우 변에 복수 개의 데이터를 치환 가능"
   ]
  },
  {
   "cell_type": "code",
   "execution_count": 24,
   "metadata": {},
   "outputs": [
    {
     "name": "stdout",
     "output_type": "stream",
     "text": [
      "1 2 3\n",
      "11 12 13 14\n"
     ]
    }
   ],
   "source": [
    "x, y, z = 1, 2, 3\n",
    "(x1, y1), (x2, y2) = (11, 12), (13, 14)\n",
    "print(x, y, z)\n",
    "print(x1, y1, x2, y2)"
   ]
  },
  {
   "cell_type": "markdown",
   "metadata": {},
   "source": [
    "#### 스왑 가능"
   ]
  },
  {
   "cell_type": "code",
   "execution_count": 40,
   "metadata": {},
   "outputs": [
    {
     "data": {
      "text/plain": [
       "(2, 1)"
      ]
     },
     "execution_count": 40,
     "output_type": "execute_result",
     "metadata": {}
    }
   ],
   "source": [
    "x, y = 1, 2\n",
    "x, y = y, x\n",
    "x, y"
   ]
  },
  {
   "cell_type": "markdown",
   "metadata": {},
   "source": [
    "## 패킹과 언패킹\n",
    "#### 패킹  (Packing)   : 한 데이터에 여러 개의 데이터를 넣는 것\n",
    "* t = 1, 2, 'hello'\n",
    "#### 언패킹(Unpacking) : 한 데이터에서 데이터를 각각 꺼내 오는 것\n",
    "* x, y, z = t"
   ]
  },
  {
   "cell_type": "markdown",
   "metadata": {},
   "source": [
    "#### 리스트도 언패킹을 지원함."
   ]
  },
  {
   "cell_type": "code",
   "execution_count": 46,
   "metadata": {},
   "outputs": [
    {
     "name": "stdout",
     "output_type": "stream",
     "text": [
      "['foo', 'bar', 4, 5]\n",
      "foo bar 4 5\n"
     ]
    }
   ],
   "source": [
    "a = ['foo', 'bar', 4, 5]\n",
    "print(a)\n",
    "x, y, z, w = a\n",
    "print(x, y, z, w)"
   ]
  },
  {
   "cell_type": "markdown",
   "metadata": {},
   "source": [
    "#### 확장된 언패킹(Extended Unpacking)"
   ]
  },
  {
   "cell_type": "code",
   "execution_count": 48,
   "metadata": {},
   "outputs": [
    {
     "name": "stdout",
     "output_type": "stream",
     "text": [
      "1 [2, 3, 4, 5]\n"
     ]
    }
   ],
   "source": [
    "T = (1, 2, 3, 4, 5)\n",
    "a, *b = T\n",
    "print(a, b)"
   ]
  },
  {
   "cell_type": "code",
   "execution_count": 49,
   "metadata": {},
   "outputs": [
    {
     "name": "stdout",
     "output_type": "stream",
     "text": [
      "[1, 2, 3, 4] 5\n"
     ]
    }
   ],
   "source": [
    "*a, b = T\n",
    "print(a, b)"
   ]
  },
  {
   "cell_type": "code",
   "execution_count": 50,
   "metadata": {},
   "outputs": [
    {
     "name": "stdout",
     "output_type": "stream",
     "text": [
      "1 2 [3, 4, 5]\n"
     ]
    }
   ],
   "source": [
    "a, b, *c = T\n",
    "print(a, b, c)"
   ]
  },
  {
   "cell_type": "markdown",
   "metadata": {},
   "source": [
    "#### *a와 같은 식의 표현은 나머지 전부를 의미한다 따라서 다음과 같은 표현은 있을 수 없다."
   ]
  },
  {
   "cell_type": "code",
   "execution_count": 51,
   "metadata": {},
   "outputs": [
    {
     "ename": "SyntaxError",
     "evalue": "two starred expressions in assignment (<ipython-input-51-2333a48782d3>, line 1)",
     "output_type": "error",
     "traceback": [
      "\u001b[1;36m  File \u001b[1;32m\"<ipython-input-51-2333a48782d3>\"\u001b[1;36m, line \u001b[1;32m1\u001b[0m\n\u001b[1;33m    a, *b, *c = T\u001b[0m\n\u001b[1;37m                 ^\u001b[0m\n\u001b[1;31mSyntaxError\u001b[0m\u001b[1;31m:\u001b[0m two starred expressions in assignment\n"
     ]
    }
   ],
   "source": [
    "a, *b, *c = T"
   ]
  },
  {
   "cell_type": "markdown",
   "metadata": {},
   "source": [
    "## 리스트와의 차이점\n",
    "### 공통점\n",
    "* 임의의 객체를 저장할 수 있다.\n",
    "* 시퀀스 자료형.\n",
    "### 차이점\n",
    "* 변경 불가능한 시퀀스 자료형.\n",
    "* 함수의 가변 인수를 지원한다.\n",
    "#### 변경해야할 데이터들은 리스트에, 변경하지 말아야 할 데이터는 튜플에 저장.\n",
    "#### 리스트와 튜플은 list()와 tuple()내장 함수를 사용하여 상호 변환 가능."
   ]
  },
  {
   "cell_type": "code",
   "execution_count": 52,
   "metadata": {},
   "outputs": [
    {
     "data": {
      "text/plain": [
       "[100, 2, 3, 4, 5]"
      ]
     },
     "execution_count": 52,
     "output_type": "execute_result",
     "metadata": {}
    }
   ],
   "source": [
    "T = (1, 2, 3, 4, 5)\n",
    "L = list(T)\n",
    "L[0] = 100\n",
    "L"
   ]
  },
  {
   "cell_type": "code",
   "execution_count": 53,
   "metadata": {},
   "outputs": [
    {
     "data": {
      "text/plain": [
       "(100, 2, 3, 4, 5)"
      ]
     },
     "execution_count": 53,
     "output_type": "execute_result",
     "metadata": {}
    }
   ],
   "source": [
    "T = tuple(L)\n",
    "T"
   ]
  },
  {
   "cell_type": "markdown",
   "metadata": {},
   "source": [
    "### 튜프의 활용\n",
    "#### 함수에 있어서 하나 이상의 값을 반환할 때"
   ]
  },
  {
   "cell_type": "code",
   "execution_count": 56,
   "metadata": {},
   "outputs": [
    {
     "data": {
      "text/plain": [
       "(9, 20)"
      ]
     },
     "execution_count": 56,
     "output_type": "execute_result",
     "metadata": {}
    }
   ],
   "source": [
    "# 튜플을 반환한다.\n",
    "def calc(a, b):\n",
    "    return a + b, a * b\n",
    "x, y = calc(5, 4)\n",
    "x, y"
   ]
  },
  {
   "cell_type": "markdown",
   "metadata": {},
   "source": [
    "#### 함수의 인수로 사용할 떄"
   ]
  },
  {
   "cell_type": "code",
   "execution_count": 59,
   "metadata": {},
   "outputs": [
    {
     "data": {
      "text/plain": [
       "(9, 20)"
      ]
     },
     "execution_count": 59,
     "output_type": "execute_result",
     "metadata": {}
    }
   ],
   "source": [
    "# calc(4, 5)와 동일하다.\n",
    "args = (4, 5)\n",
    "calc(*args)"
   ]
  },
  {
   "cell_type": "markdown",
   "metadata": {},
   "source": [
    "#### 파이썬2 형식의 서식 문자열에 데이터를 공급할 떄"
   ]
  },
  {
   "cell_type": "code",
   "execution_count": 60,
   "metadata": {},
   "outputs": [
    {
     "data": {
      "text/plain": [
       "'12 3.456000 hello'"
      ]
     },
     "execution_count": 60,
     "output_type": "execute_result",
     "metadata": {}
    }
   ],
   "source": [
    "\"%d %f %s\" % (12, 3.456, 'hello')"
   ]
  },
  {
   "cell_type": "markdown",
   "metadata": {},
   "source": [
    "## 이름 있는 튜플(namedtuple)\n",
    "### 튜플에 이름으로 접근할 수 있도록 관련 기능을 추가한 것\n",
    "#### 모듈 collections의 namedtuple()함수로 객체를 생성\n",
    "* namedtuple(typename, field_names, verbose=False, rename=False)\n",
    "* 인수 field_names는 이름들을 공백으로 구분하는 문자열로 전달"
   ]
  },
  {
   "cell_type": "code",
   "execution_count": 62,
   "metadata": {},
   "outputs": [
    {
     "name": "stdout",
     "output_type": "stream",
     "text": [
      "<class '__main__.Point'>\n"
     ]
    }
   ],
   "source": [
    "from collections import namedtuple\n",
    "Point = namedtuple('Point', 'x y')\n",
    "print(Point)"
   ]
  },
  {
   "cell_type": "code",
   "execution_count": 63,
   "metadata": {},
   "outputs": [
    {
     "data": {
      "text/plain": [
       "'Point'"
      ]
     },
     "execution_count": 63,
     "output_type": "execute_result",
     "metadata": {}
    }
   ],
   "source": [
    "# namedtuple()함수는 Point 클래스를 만든다.\n",
    "Point.__name__"
   ]
  },
  {
   "cell_type": "code",
   "execution_count": 64,
   "metadata": {},
   "outputs": [
    {
     "data": {
      "text/plain": [
       "Point(x=1.0, y=5.0)"
      ]
     },
     "execution_count": 64,
     "output_type": "execute_result",
     "metadata": {}
    }
   ],
   "source": [
    "pt1 = Point(1.0, 5.0)\n",
    "pt2 = Point(2.5, 1.5)\n",
    "pt1"
   ]
  },
  {
   "cell_type": "code",
   "execution_count": 67,
   "metadata": {},
   "outputs": [
    {
     "data": {
      "text/plain": [
       "3.8078865529319543"
      ]
     },
     "execution_count": 67,
     "output_type": "execute_result",
     "metadata": {}
    }
   ],
   "source": [
    "from math import sqrt\n",
    "length = sqrt((pt1.x - pt2.x) ** 2 + (pt1.y - pt2.y) ** 2)\n",
    "length"
   ]
  },
  {
   "cell_type": "code",
   "execution_count": 68,
   "metadata": {},
   "outputs": [
    {
     "data": {
      "text/plain": [
       "3.8078865529319543"
      ]
     },
     "execution_count": 68,
     "output_type": "execute_result",
     "metadata": {}
    }
   ],
   "source": [
    "# 첨자 참조 가능으로\n",
    "length = sqrt((pt1[0] - pt2[0]) ** 2 + (pt1[1] - pt2[1]) ** 2)\n",
    "length"
   ]
  },
  {
   "cell_type": "markdown",
   "metadata": {},
   "source": [
    "## 예제:경로명 다루기\n",
    "#### 튜플을 사용하는 예로 os.path 모듈의 경로명을 다루는 함수(split)를 살펴보자."
   ]
  },
  {
   "cell_type": "code",
   "execution_count": 73,
   "metadata": {},
   "outputs": [
    {
     "data": {
      "text/plain": [
       "'C:\\\\SPB_Data\\\\t.py'"
      ]
     },
     "execution_count": 73,
     "output_type": "execute_result",
     "metadata": {}
    }
   ],
   "source": [
    "# 상대 경로를 절대 경로로 반환한다.\n",
    "import os\n",
    "p = os.path.abspath('t.py')\n",
    "p"
   ]
  },
  {
   "cell_type": "code",
   "execution_count": 74,
   "metadata": {},
   "outputs": [
    {
     "data": {
      "text/plain": [
       "True"
      ]
     },
     "execution_count": 74,
     "output_type": "execute_result",
     "metadata": {}
    }
   ],
   "source": [
    "# 파일의 존재 여부를 검사한다.\n",
    "os.path.exists(p)"
   ]
  },
  {
   "cell_type": "code",
   "execution_count": 76,
   "metadata": {},
   "outputs": [
    {
     "data": {
      "text/plain": [
       "39"
      ]
     },
     "execution_count": 76,
     "output_type": "execute_result",
     "metadata": {}
    }
   ],
   "source": [
    "# 파일 크기를 확인한다.\n",
    "os.path.getsize(p)"
   ]
  },
  {
   "cell_type": "code",
   "execution_count": 77,
   "metadata": {},
   "outputs": [
    {
     "data": {
      "text/plain": [
       "('C:\\\\SPB_Data', 't.py')"
      ]
     },
     "execution_count": 77,
     "output_type": "execute_result",
     "metadata": {}
    }
   ],
   "source": [
    "# (head, tail)로 분리한다(디렉터리명, 파일 이름)\n",
    "os.path.split(p)"
   ]
  },
  {
   "cell_type": "code",
   "execution_count": 79,
   "metadata": {},
   "outputs": [
    {
     "data": {
      "text/plain": [
       "'c:\\\\work\\\\t.hwp'"
      ]
     },
     "execution_count": 79,
     "output_type": "execute_result",
     "metadata": {}
    }
   ],
   "source": [
    "# 디렉터리와 파일 이름을 결합한다.\n",
    "os.path.join('c:\\\\work','t.hwp')"
   ]
  },
  {
   "cell_type": "code",
   "execution_count": 80,
   "metadata": {},
   "outputs": [
    {
     "data": {
      "text/plain": [
       "'c:\\\\work\\\\t.hwp'"
      ]
     },
     "execution_count": 80,
     "output_type": "execute_result",
     "metadata": {}
    }
   ],
   "source": [
    "# 파일 이름을 정규화한다.\n",
    "os.path.normpath('c:\\\\work\\\\.\\\\t.hwp')"
   ]
  },
  {
   "cell_type": "code",
   "execution_count": 81,
   "metadata": {},
   "outputs": [
    {
     "data": {
      "text/plain": [
       "('c:\\\\work\\\\t', '.hwp')"
      ]
     },
     "execution_count": 81,
     "output_type": "execute_result",
     "metadata": {}
    }
   ],
   "source": [
    "os.path.splitext('c:\\\\work\\\\t.hwp')"
   ]
  },
  {
   "cell_type": "markdown",
   "metadata": {},
   "source": [
    "#### 같은 의미를 나타내지만 운영 체제마다 다른 기호를 사용하는 경우가 있다. 파이썬은 운영 체제의 독립성을 유지하기 위해서 이러한 내용을 os모듈의 일부 이름에 표현해 놓았다. 이들을 이용해 프로그램하면 이식할 떄 생기는 문제를 미리 예방할 수 있다.\n",
    "* os.linesep : 파일에서 줄을 구분하는 문자.윈도우에서는 \\r\\n, 유닉스에서는 \\n\n",
    "* os.sep     : 경로명에서 각 요소를 구분하는 문자.윈도우에서는 \\, 유닉스에서는 /\n",
    "* os.pathsep : 경로명과 경로명을 구분하는 문자. 윈도우에서는 ;, 유닉스에서는 :\n",
    "* os.curdir  : 현재 디렉터리를 나타내는 문자. 윈도우와 유닉스 계열에서는 .\n",
    "* os.pardir  : 상위 디렉터리를 나타내는 문자. 윈도우와 유닉스 계열에서는 ..\n",
    "* os.devnull : null장치에 대한 파일 경로. 유닉스 계열에서는 /dev/null이고 윈도우 계열에서는 nul\n",
    "* os.extsep  : 파일 이름과 확장자를 구분하는 문자. 대부분 .을 사용\n",
    "## 예제:URL 다루기\n",
    "### urllib.parse 모듈은 Uniform Resource Locator(URL)을 성분별로 분해하거나 결합하는 인터페이스 제공\n",
    "#### urlparse()함수 : URL을 다음과 같이 분리하여 튜플을 반환한다.\n",
    "* (addressing scheme, network location, path, parameters, query, fragment, identifier)"
   ]
  },
  {
   "cell_type": "code",
   "execution_count": 82,
   "metadata": {},
   "outputs": [
    {
     "data": {
      "text/plain": [
       "ParseResult(scheme='http', netloc='some.where.or.kr:8080', path='/a/b/c.html', params='param', query='x=1&y=2', fragment='fragment')"
      ]
     },
     "execution_count": 82,
     "output_type": "execute_result",
     "metadata": {}
    }
   ],
   "source": [
    "from urllib.parse import urlparse\n",
    "a = 'http://some.where.or.kr:8080/a/b/c.html;param?x=1&y=2#fragment'\n",
    "r = urlparse(a)\n",
    "r"
   ]
  },
  {
   "cell_type": "code",
   "execution_count": 83,
   "metadata": {},
   "outputs": [
    {
     "data": {
      "text/plain": [
       "'http'"
      ]
     },
     "execution_count": 83,
     "output_type": "execute_result",
     "metadata": {}
    }
   ],
   "source": [
    "r.scheme"
   ]
  },
  {
   "cell_type": "markdown",
   "metadata": {},
   "source": [
    "#### urlunparse()함수 : 튜플로 표현된 성분들을 하나의 URL로 역변환한다.\n",
    "* 튜플의 구성순서는 urlparse()함수의 출력과 같다."
   ]
  },
  {
   "cell_type": "code",
   "execution_count": 84,
   "metadata": {},
   "outputs": [
    {
     "data": {
      "text/plain": [
       "'http://some.where.or.kr:8080/a/b/c.html;param?x=1&y=2#fragment'"
      ]
     },
     "execution_count": 84,
     "output_type": "execute_result",
     "metadata": {}
    }
   ],
   "source": [
    "from urllib.parse import urlparse, urlunparse\n",
    "a = 'http://some.where.or.kr:8080/a/b/c.html;param?x=1&y=2#fragment'\n",
    "u = urlparse(a)\n",
    "urlunparse(u)"
   ]
  },
  {
   "cell_type": "markdown",
   "metadata": {},
   "source": [
    "#### urljoin()함수 : 기본 URL과 상대 URL을 연결하여 절대 URL을 만든다."
   ]
  },
  {
   "cell_type": "code",
   "execution_count": 89,
   "metadata": {},
   "outputs": [
    {
     "data": {
      "text/plain": [
       "'http://some.where.or.kr:8080/a/b/d.html'"
      ]
     },
     "execution_count": 89,
     "output_type": "execute_result",
     "metadata": {}
    }
   ],
   "source": [
    "from urllib.parse import urljoin\n",
    "b = 'http://some.where.or.kr:8080/a/b/c.html;param?x=1'\n",
    "urljoin(b, 'd.html')"
   ]
  },
  {
   "cell_type": "markdown",
   "metadata": {},
   "source": [
    "* 스킴(Scheme, 프로토콜명, 예: http)과 네트워크 위치만 얻으려면 다음과 같이 /를 이용한다."
   ]
  },
  {
   "cell_type": "code",
   "execution_count": 90,
   "metadata": {},
   "outputs": [
    {
     "data": {
      "text/plain": [
       "'http://some.where.or.kr:8080/'"
      ]
     },
     "execution_count": 90,
     "output_type": "execute_result",
     "metadata": {}
    }
   ],
   "source": [
    "urljoin(b, '/')"
   ]
  }
 ],
 "metadata": {
  "kernelspec": {
   "display_name": "Python 3",
   "language": "python",
   "name": "python3"
  },
  "language_info": {
   "codemirror_mode": {
    "name": "ipython",
    "version": 3.0
   },
   "file_extension": ".py",
   "mimetype": "text/x-python",
   "name": "python",
   "nbconvert_exporter": "python",
   "pygments_lexer": "ipython3",
   "version": "3.4.3"
  }
 },
 "nbformat": 4,
 "nbformat_minor": 0
}