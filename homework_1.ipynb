{
 "cells": [
  {
   "cell_type": "markdown",
   "metadata": {},
   "source": [
    "# 과제\n",
    "## 다이아 그리기\n",
    "제어문, 입력문 그리고 출력문을 이용하여 아래의 프로그램을 작성해 보자\n",
    "* 처음 실행시 저장된 파일에서 이전 다이아 읽어들여서 화면에 출력\n",
    "* 출력할 줄 수를 입력 받는다.\n",
    "    * 예) > 13\n",
    "* 입력받은 줄 수 만큼 크기의 다이아를 출력\n",
    "* 다이아를 파일로 저장"
   ]
  },
  {
   "cell_type": "markdown",
   "metadata": {},
   "source": [
    "## 구구단\n",
    "* 3 x 3 크기 10단은 제외\n",
    "\n",
    "## 도서관리\n",
    "### 데이터 입력\n",
    "* 주어진 데이터를 입력 받아서 저장 및 불러오기\n",
    "\n",
    "```python\n",
    "[\n",
    "    ['파이썬3 Bible', '이강성', 14000],\n",
    "    ['무소유', '법정스님', 10000] \n",
    "]\n",
    "\n",
    "\n",
    "[\n",
    "    {'name':'파이썬', 'author': '이강성', 'price': 14000},\n",
    "    {'name':'무소유', 'author': '법정스님', 'price': 10000}\n",
    "]\n",
    "\n",
    "```"
   ]
  },
  {
   "cell_type": "code",
   "execution_count": null,
   "metadata": {
    "collapsed": true
   },
   "outputs": [],
   "source": []
  }
 ],
 "metadata": {
  "kernelspec": {
   "display_name": "Python 3",
   "language": "python",
   "name": "python3"
  },
  "language_info": {
   "codemirror_mode": {
    "name": "ipython",
    "version": 3
   },
   "file_extension": ".py",
   "mimetype": "text/x-python",
   "name": "python",
   "nbconvert_exporter": "python",
   "pygments_lexer": "ipython3",
   "version": "3.4.3"
  }
 },
 "nbformat": 4,
 "nbformat_minor": 0
}
