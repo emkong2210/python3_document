{
 "cells": [
  {
   "cell_type": "markdown",
   "metadata": {},
   "source": [
    "# 파일\n",
    "디스크에 정보를 저장하는 단위인 파일을 다루는 법을 살펴보자.\n",
    "\n",
    "***\n",
    "## 텍스트 파일 쓰기 / 읽기\n",
    "### 파일 쓰기\n",
    "* 1. open() 내장 함수로 파일 객체를 얻는다.\n",
    "* 2. 얻어진 파일 객체에서 데이터를 읽고 쓴다.(read, write)\n",
    "* 3. close()함수로 객체의 사용을 종료한다(생략가능).\n",
    "\n",
    "#### 파일을 만들어 보자."
   ]
  },
  {
   "cell_type": "code",
   "execution_count": 38,
   "metadata": {
    "collapsed": false
   },
   "outputs": [
    {
     "data": {
      "text/plain": [
       "<_io.TextIOWrapper name='t.txt' mode='w' encoding='cp949'>"
      ]
     },
     "execution_count": 38,
     "metadata": {},
     "output_type": "execute_result"
    }
   ],
   "source": [
    "s = \"\"\"\n",
    "Its power: Python developers typically report\n",
    "they are able to develop applications in half\n",
    "to a tenth the amount of time it takes them to do\n",
    "the same work in such languages as C.\n",
    "\"\"\"\n",
    "f = open('t.txt', 'w')  # 쓰기 모드로 연다.\n",
    "f                       # 객체를 확인한다."
   ]
  },
  {
   "cell_type": "code",
   "execution_count": 4,
   "metadata": {
    "collapsed": false
   },
   "outputs": [
    {
     "data": {
      "text/plain": [
       "181"
      ]
     },
     "execution_count": 4,
     "metadata": {},
     "output_type": "execute_result"
    }
   ],
   "source": [
    "f.write(s)              # 문자열(str)을 파일에 기록한다."
   ]
  },
  {
   "cell_type": "code",
   "execution_count": 5,
   "metadata": {
    "collapsed": true
   },
   "outputs": [],
   "source": [
    "f.close()               # 파일을 닫는다."
   ]
  },
  {
   "cell_type": "markdown",
   "metadata": {},
   "source": [
    "#### open()내장 함수는 기본적으로 두 개의 인수를 받음.\n",
    "* 1. 파일 이름(문자열)\n",
    "* 2. 파일을 다루고자 하는 모드(쓰기 위해서는 w를 사용)\n",
    "\n",
    "#### with문을 이용하면 with 문 안에 있는 동안 객체 f를 이용하여 파일에 관련된 작업을 하고, with문을 빠져나오면 자동으로 닫히게 된다."
   ]
  },
  {
   "cell_type": "code",
   "execution_count": 6,
   "metadata": {
    "collapsed": true
   },
   "outputs": [],
   "source": [
    "with open('t1.txt', 'w') as f:\n",
    "    f.write('위대한 국민대학교')"
   ]
  },
  {
   "cell_type": "markdown",
   "metadata": {},
   "source": [
    "#### 파일을 열 떄 인수 encoding을 추가하면 저장할 문자 인코딩을 지정할 수 있음.\n",
    "* 값을 지정하지 않으면 시스템의 기본적인 문자 인코딩이 지정됨."
   ]
  },
  {
   "cell_type": "code",
   "execution_count": 15,
   "metadata": {
    "collapsed": true
   },
   "outputs": [],
   "source": [
    "# 파일 저장을 UTF-8형식으로 지정한 예제\n",
    "with open('t2.txt', 'w', encoding = 'utf-8') as f:\n",
    "    f.write('대단한 파이썬')"
   ]
  },
  {
   "cell_type": "markdown",
   "metadata": {},
   "source": [
    "### 파일 읽기\n",
    "#### open() 내장 함수에서 두번째 인수를 r로 지정하면 읽기 모드.\n",
    "* 두번째 인수를 생략해도 읽기 모드로 동작."
   ]
  },
  {
   "cell_type": "code",
   "execution_count": 10,
   "metadata": {
    "collapsed": false
   },
   "outputs": [
    {
     "data": {
      "text/plain": [
       "<_io.TextIOWrapper name='t.txt' mode='r' encoding='cp949'>"
      ]
     },
     "execution_count": 10,
     "metadata": {},
     "output_type": "execute_result"
    }
   ],
   "source": [
    "f = open('t.txt')\n",
    "f                   # 객체를 확인한다."
   ]
  },
  {
   "cell_type": "code",
   "execution_count": 11,
   "metadata": {
    "collapsed": false
   },
   "outputs": [
    {
     "name": "stdout",
     "output_type": "stream",
     "text": [
      "\n",
      "Its power: Python developers typically report\n",
      "they are able to develop applications in half\n",
      "to a tenth the amount of time it takes them to do\n",
      "the same work in such languages as C.\n",
      "\n"
     ]
    }
   ],
   "source": [
    "s = f.read()        # 파일 전체 내용을 읽는다.\n",
    "print(s)"
   ]
  },
  {
   "cell_type": "code",
   "execution_count": 12,
   "metadata": {
    "collapsed": false
   },
   "outputs": [
    {
     "data": {
      "text/plain": [
       "'위대한 국민대학교'"
      ]
     },
     "execution_count": 12,
     "metadata": {},
     "output_type": "execute_result"
    }
   ],
   "source": [
    "f.close()\n",
    "open('t1.txt').read() # 파일에 작성한 내용을 확인한다."
   ]
  },
  {
   "cell_type": "markdown",
   "metadata": {},
   "source": [
    "#### with문을 이용하여 파일 읽기"
   ]
  },
  {
   "cell_type": "code",
   "execution_count": 17,
   "metadata": {
    "collapsed": false
   },
   "outputs": [
    {
     "name": "stdout",
     "output_type": "stream",
     "text": [
      "\n",
      "Its power: Python developers typically report\n",
      "they are able to develop applications in half\n",
      "to a tenth the amount of time it takes them to do\n",
      "the same work in such languages as C.\n",
      "\n"
     ]
    }
   ],
   "source": [
    "with open('t.txt') as f:\n",
    "    print(f.read())"
   ]
  },
  {
   "cell_type": "markdown",
   "metadata": {},
   "source": [
    "#### 기본 인코딩으로 저장되어 있지 않은 파일은 열 때 인수 encoding을 지정해야 한다."
   ]
  },
  {
   "cell_type": "code",
   "execution_count": 18,
   "metadata": {
    "collapsed": false
   },
   "outputs": [
    {
     "name": "stdout",
     "output_type": "stream",
     "text": [
      "대단한 파이썬\n"
     ]
    }
   ],
   "source": [
    "with open('t2.txt', encoding = 'utf-8') as f:\n",
    "    print(f.read())"
   ]
  },
  {
   "cell_type": "code",
   "execution_count": 19,
   "metadata": {
    "collapsed": false
   },
   "outputs": [
    {
     "ename": "UnicodeDecodeError",
     "evalue": "'cp949' codec can't decode byte 0xeb in position 0: illegal multibyte sequence",
     "output_type": "error",
     "traceback": [
      "\u001b[1;31m---------------------------------------------------------------------------\u001b[0m",
      "\u001b[1;31mUnicodeDecodeError\u001b[0m                        Traceback (most recent call last)",
      "\u001b[1;32m<ipython-input-19-73356b9eb3f1>\u001b[0m in \u001b[0;36m<module>\u001b[1;34m()\u001b[0m\n\u001b[0;32m      1\u001b[0m \u001b[1;32mwith\u001b[0m \u001b[0mopen\u001b[0m\u001b[1;33m(\u001b[0m\u001b[1;34m't2.txt'\u001b[0m\u001b[1;33m)\u001b[0m \u001b[1;32mas\u001b[0m \u001b[0mf\u001b[0m\u001b[1;33m:\u001b[0m\u001b[1;33m\u001b[0m\u001b[0m\n\u001b[1;32m----> 2\u001b[1;33m     \u001b[0mprint\u001b[0m\u001b[1;33m(\u001b[0m\u001b[0mf\u001b[0m\u001b[1;33m.\u001b[0m\u001b[0mread\u001b[0m\u001b[1;33m(\u001b[0m\u001b[1;33m)\u001b[0m\u001b[1;33m)\u001b[0m\u001b[1;33m\u001b[0m\u001b[0m\n\u001b[0m",
      "\u001b[1;31mUnicodeDecodeError\u001b[0m: 'cp949' codec can't decode byte 0xeb in position 0: illegal multibyte sequence"
     ]
    }
   ],
   "source": [
    "with open('t2.txt') as f:\n",
    "    print(f.read())"
   ]
  },
  {
   "cell_type": "markdown",
   "metadata": {},
   "source": [
    "## 줄 단위로 파일 쓰기/읽기\n",
    "### 파일 쓰기\n",
    "#### 파일로 기록할 문자열을 줄 단위로 가지고 있으면 writelines() 메서드를 사용\n",
    "* writelines() 메서드는 리스트 안에 들어 있는 문자열을 연속해서 출력\n",
    "#### writelines() 메서드를 사용한 방법과 write()함수를 사용한 방법들."
   ]
  },
  {
   "cell_type": "code",
   "execution_count": 21,
   "metadata": {
    "collapsed": true
   },
   "outputs": [],
   "source": [
    "lines = ['first line\\n', 'second line\\n', 'third line\\n']\n",
    "f = open('t3.txt', 'w')\n",
    "f.writelines(lines)"
   ]
  },
  {
   "cell_type": "code",
   "execution_count": 23,
   "metadata": {
    "collapsed": false
   },
   "outputs": [
    {
     "data": {
      "text/plain": [
       "34"
      ]
     },
     "execution_count": 23,
     "metadata": {},
     "output_type": "execute_result"
    }
   ],
   "source": [
    "lines = ['first line\\n', 'second line\\n', 'third line\\n']\n",
    "f = open('t4.txt', 'w')\n",
    "f.write(''.join(lines))"
   ]
  },
  {
   "cell_type": "code",
   "execution_count": 25,
   "metadata": {
    "collapsed": false
   },
   "outputs": [
    {
     "data": {
      "text/plain": [
       "36"
      ]
     },
     "execution_count": 25,
     "metadata": {},
     "output_type": "execute_result"
    }
   ],
   "source": [
    "lines = ['first line\\n', 'second line\\n', 'third line\\n']\n",
    "f = open('t5.txt', 'w')\n",
    "f.write('\\n'.join(lines))"
   ]
  },
  {
   "cell_type": "markdown",
   "metadata": {},
   "source": [
    "### 파일 읽기\n",
    "#### 테긋트 파일을 전체로 읽지 않고 줄 단위로 일어 처리할 수 있음.\n",
    "* 파일 객체의 반복자 이용\n",
    "* readline()  : 파일을 한 번에 한 줄씩 읽는다.\n",
    "* readlines() : 파일 전체를 줄 단위로 끊어서 리스트에 저장한다.\n",
    "\n",
    "#### 파일 객체의 반복자 이용한 방법"
   ]
  },
  {
   "cell_type": "code",
   "execution_count": 26,
   "metadata": {
    "collapsed": false
   },
   "outputs": [
    {
     "name": "stdout",
     "output_type": "stream",
     "text": [
      "\n",
      "Its power: Python developers typically report\n",
      "they are able to develop applications in half\n",
      "to a tenth the amount of time it takes them to do\n",
      "the same work in such languages as C.\n"
     ]
    }
   ],
   "source": [
    "with open('t.txt') as f:\n",
    "    for line in f:\n",
    "        print(line, end = '')"
   ]
  },
  {
   "cell_type": "markdown",
   "metadata": {},
   "source": [
    "#### readline() 메서드를 사용한 방법"
   ]
  },
  {
   "cell_type": "code",
   "execution_count": 28,
   "metadata": {
    "collapsed": false
   },
   "outputs": [
    {
     "name": "stdout",
     "output_type": "stream",
     "text": [
      "\n",
      "Its power: Python developers typically report\n",
      "they are able to develop applications in half\n",
      "to a tenth the amount of time it takes them to do\n",
      "the same work in such languages as C.\n"
     ]
    }
   ],
   "source": [
    "f = open('t.txt')\n",
    "line = f.readline()\n",
    "while line:         # line이 ''이면 파일의 끝을 의미한다.\n",
    "    print(line, end = '')\n",
    "    line = f.readline()"
   ]
  },
  {
   "cell_type": "markdown",
   "metadata": {},
   "source": [
    "#### 줄 전체를 일어서 리스트에 저장하려면 readlines()메서드 사용"
   ]
  },
  {
   "cell_type": "code",
   "execution_count": 29,
   "metadata": {
    "collapsed": false
   },
   "outputs": [
    {
     "name": "stdout",
     "output_type": "stream",
     "text": [
      "\n",
      "Its power: Python developers typically report\n",
      "they are able to develop applications in half\n",
      "to a tenth the amount of time it takes them to do\n",
      "the same work in such languages as C.\n"
     ]
    }
   ],
   "source": [
    "f = open('t.txt')\n",
    "for line in f.readlines():\n",
    "    print(line, end = '')"
   ]
  },
  {
   "cell_type": "markdown",
   "metadata": {},
   "source": [
    "### 파일에서 원하는 만큼의 문자 읽기\n",
    "* read() 메서드에 인수로 원하는 바이트를 지정"
   ]
  },
  {
   "cell_type": "code",
   "execution_count": 30,
   "metadata": {
    "collapsed": false
   },
   "outputs": [
    {
     "data": {
      "text/plain": [
       "'\\nIts power'"
      ]
     },
     "execution_count": 30,
     "metadata": {},
     "output_type": "execute_result"
    }
   ],
   "source": [
    "f = open('t.txt')\n",
    "f.read(10)"
   ]
  },
  {
   "cell_type": "code",
   "execution_count": 31,
   "metadata": {
    "collapsed": false
   },
   "outputs": [
    {
     "data": {
      "text/plain": [
       "': Python d'"
      ]
     },
     "execution_count": 31,
     "metadata": {},
     "output_type": "execute_result"
    }
   ],
   "source": [
    "f.read(10)"
   ]
  },
  {
   "cell_type": "markdown",
   "metadata": {},
   "source": [
    "### 이진 파일 쓰기/ 읽기\n",
    "#### 파일 쓰기\n",
    "* 이진 파일을 작성하려면 열기 모드에 b를 추가한다.\n",
    "* 인진 파일에 출력되는 자료형은 바이트이어야 함. 문자열은 허용되지 않는다."
   ]
  },
  {
   "cell_type": "code",
   "execution_count": 32,
   "metadata": {
    "collapsed": false
   },
   "outputs": [
    {
     "ename": "TypeError",
     "evalue": "'str' does not support the buffer interface",
     "output_type": "error",
     "traceback": [
      "\u001b[1;31m---------------------------------------------------------------------------\u001b[0m",
      "\u001b[1;31mTypeError\u001b[0m                                 Traceback (most recent call last)",
      "\u001b[1;32m<ipython-input-32-e898034d0e47>\u001b[0m in \u001b[0;36m<module>\u001b[1;34m()\u001b[0m\n\u001b[0;32m      1\u001b[0m \u001b[0mf\u001b[0m \u001b[1;33m=\u001b[0m \u001b[0mopen\u001b[0m\u001b[1;33m(\u001b[0m\u001b[1;34m't6.bin'\u001b[0m\u001b[1;33m,\u001b[0m \u001b[1;34m'wb'\u001b[0m\u001b[1;33m)\u001b[0m     \u001b[1;31m# 이진 모드로 연다.\u001b[0m\u001b[1;33m\u001b[0m\u001b[0m\n\u001b[1;32m----> 2\u001b[1;33m \u001b[0mf\u001b[0m\u001b[1;33m.\u001b[0m\u001b[0mwrite\u001b[0m\u001b[1;33m(\u001b[0m\u001b[1;34m'abcd'\u001b[0m\u001b[1;33m)\u001b[0m              \u001b[1;31m# 문자열은 허용되지 않는다.\u001b[0m\u001b[1;33m\u001b[0m\u001b[0m\n\u001b[0m",
      "\u001b[1;31mTypeError\u001b[0m: 'str' does not support the buffer interface"
     ]
    }
   ],
   "source": [
    "f = open('t6.bin', 'wb')     # 이진 모드로 연다.\n",
    "f.write('abcd')              # 문자열은 허용되지 않는다."
   ]
  },
  {
   "cell_type": "code",
   "execution_count": 35,
   "metadata": {
    "collapsed": false
   },
   "outputs": [
    {
     "data": {
      "text/plain": [
       "b'abcde'"
      ]
     },
     "execution_count": 35,
     "metadata": {},
     "output_type": "execute_result"
    }
   ],
   "source": [
    "'abcde'.encode()              # 문자열 -> 바이트로 형변환"
   ]
  },
  {
   "cell_type": "code",
   "execution_count": 36,
   "metadata": {
    "collapsed": false
   },
   "outputs": [
    {
     "data": {
      "text/plain": [
       "5"
      ]
     },
     "execution_count": 36,
     "metadata": {},
     "output_type": "execute_result"
    }
   ],
   "source": [
    "f.write('abcde'.encode())     # 바이트는 쓸 수 있다."
   ]
  },
  {
   "cell_type": "code",
   "execution_count": 37,
   "metadata": {
    "collapsed": true
   },
   "outputs": [],
   "source": [
    "f.close()"
   ]
  },
  {
   "cell_type": "markdown",
   "metadata": {},
   "source": [
    "#### 파일 읽기\n",
    "* 이진 파일을 읽으려면 rb 모드로 연다.\n",
    "* 이진 파일은 바이트로 읽는다."
   ]
  },
  {
   "cell_type": "code",
   "execution_count": 39,
   "metadata": {
    "collapsed": false
   },
   "outputs": [
    {
     "data": {
      "text/plain": [
       "b'abcda'"
      ]
     },
     "execution_count": 39,
     "metadata": {},
     "output_type": "execute_result"
    }
   ],
   "source": [
    "f = open('t6.bin', 'rb')\n",
    "b = f.read(5)     # 바이트로 읽는다.\n",
    "b"
   ]
  },
  {
   "cell_type": "code",
   "execution_count": 40,
   "metadata": {
    "collapsed": false
   },
   "outputs": [
    {
     "data": {
      "text/plain": [
       "'abcda'"
      ]
     },
     "execution_count": 40,
     "metadata": {},
     "output_type": "execute_result"
    }
   ],
   "source": [
    "b.decode()        # 바이트 -> 문자열로 형변환"
   ]
  },
  {
   "cell_type": "markdown",
   "metadata": {},
   "source": [
    "### 파일 처리 모드\n",
    "    r     :     읽기 전용\n",
    "    w     :     쓰기 전용\n",
    "    a     :     파일 끝에 추가\n",
    "    r+    :     읽고 쓰기\n",
    "    w+    :     읽고 쓰기(기존 파일 삭제)\n",
    "    a+    :     파일 끝에 추가(읽기도 가능)\n",
    "    rb    :     이진파일 읽기 전용\n",
    "    wb    :     이진파일 쓰기 전용\n",
    "    ab    :     이진파일 끝에 추가\n",
    "    rb+   :     이진파일 읽고 쓰기\n",
    "    wb+   :     이진파일 읽고 쓰기(기존 파일 삭제)\n",
    "    ab+   :     이진파일 끝에 추가(읽기도 가능)"
   ]
  },
  {
   "cell_type": "code",
   "execution_count": 41,
   "metadata": {
    "collapsed": false
   },
   "outputs": [
    {
     "data": {
      "text/plain": [
       "11"
      ]
     },
     "execution_count": 41,
     "metadata": {},
     "output_type": "execute_result"
    }
   ],
   "source": [
    "f = open('removeme.txt', 'w')\n",
    "f.write('first line\\n')"
   ]
  },
  {
   "cell_type": "code",
   "execution_count": 42,
   "metadata": {
    "collapsed": false
   },
   "outputs": [
    {
     "data": {
      "text/plain": [
       "12"
      ]
     },
     "execution_count": 42,
     "metadata": {},
     "output_type": "execute_result"
    }
   ],
   "source": [
    "f.write('second line\\n')"
   ]
  },
  {
   "cell_type": "code",
   "execution_count": 44,
   "metadata": {
    "collapsed": false
   },
   "outputs": [
    {
     "data": {
      "text/plain": [
       "11"
      ]
     },
     "execution_count": 44,
     "metadata": {},
     "output_type": "execute_result"
    }
   ],
   "source": [
    "f.close()\n",
    "f = open('removeme.txt', 'a')     # 파일 추가 모드로 열기\n",
    "f.write('third line\\n')"
   ]
  },
  {
   "cell_type": "code",
   "execution_count": 45,
   "metadata": {
    "collapsed": false
   },
   "outputs": [
    {
     "name": "stdout",
     "output_type": "stream",
     "text": [
      "first line\n",
      "second line\n",
      "third line\n",
      "\n"
     ]
    }
   ],
   "source": [
    "f.close()\n",
    "f = open('removeme.txt')          # 읽기\n",
    "print(f.read())"
   ]
  },
  {
   "cell_type": "markdown",
   "metadata": {},
   "source": [
    "### 임의 접근 파일\n",
    "#### 앞에서 설명한 파일 접근 방식을 순차적 접근이라고 한다.\n",
    "#### 파일에서 임의의 위치에 있는 내용에 접근하는 모드도 필요함\n",
    "***\n",
    "####임의 접근에 사용되는 메서드\n",
    "* seek(n)     파일의 n번째 바이트로 이동\n",
    "* seek(n, os.SEEK_CUR)     현재 위치에서 n바이트 이동.(n이 양수이면 뒤쪽으로 음수이면 앞쪽으로 이동. 이진파일에서만 가능)\n",
    "* seek(n, os.SEKK_END)     맨 마지막에서 n바이트 이동.(n은 보통 음수)\n",
    "* tell()     현재의 파일 포인터 위치를 돌려준다.(이진파일에서만 가능)"
   ]
  },
  {
   "cell_type": "code",
   "execution_count": 46,
   "metadata": {
    "collapsed": false
   },
   "outputs": [
    {
     "data": {
      "text/plain": [
       "16"
      ]
     },
     "execution_count": 46,
     "metadata": {},
     "output_type": "execute_result"
    }
   ],
   "source": [
    "f = open('t.txt', 'wb+')    # 이진 파일 읽고 쓰기(기존 파일 삭제)\n",
    "s = b'0123456789abcdef'     # 이진 파일이므로 바이트 자료형으로 출력\n",
    "f.write(s)"
   ]
  },
  {
   "cell_type": "code",
   "execution_count": 47,
   "metadata": {
    "collapsed": false
   },
   "outputs": [
    {
     "data": {
      "text/plain": [
       "5"
      ]
     },
     "execution_count": 47,
     "metadata": {},
     "output_type": "execute_result"
    }
   ],
   "source": [
    "f.seek(5)    # 시작부터 5번째 위치로 이동"
   ]
  },
  {
   "cell_type": "code",
   "execution_count": 48,
   "metadata": {
    "collapsed": false
   },
   "outputs": [
    {
     "data": {
      "text/plain": [
       "5"
      ]
     },
     "execution_count": 48,
     "metadata": {},
     "output_type": "execute_result"
    }
   ],
   "source": [
    "f.tell()     # 위치확인"
   ]
  },
  {
   "cell_type": "code",
   "execution_count": 49,
   "metadata": {
    "collapsed": false
   },
   "outputs": [
    {
     "data": {
      "text/plain": [
       "b'5'"
      ]
     },
     "execution_count": 49,
     "metadata": {},
     "output_type": "execute_result"
    }
   ],
   "source": [
    "f.read(1)    # 1바이트 읽기"
   ]
  },
  {
   "cell_type": "code",
   "execution_count": 51,
   "metadata": {
    "collapsed": false
   },
   "outputs": [
    {
     "data": {
      "text/plain": [
       "8"
      ]
     },
     "execution_count": 51,
     "metadata": {},
     "output_type": "execute_result"
    }
   ],
   "source": [
    "f.seek(2, 1)    # 현재 위치에서 2바이트 더 이동, 8번 위치"
   ]
  },
  {
   "cell_type": "code",
   "execution_count": 55,
   "metadata": {
    "collapsed": false
   },
   "outputs": [
    {
     "data": {
      "text/plain": [
       "13"
      ]
     },
     "execution_count": 55,
     "metadata": {},
     "output_type": "execute_result"
    }
   ],
   "source": [
    "f.seek(-3, 2)    # 마지막에서 -3 바이트 이동, 13번 위치"
   ]
  },
  {
   "cell_type": "code",
   "execution_count": 56,
   "metadata": {
    "collapsed": false
   },
   "outputs": [
    {
     "data": {
      "text/plain": [
       "b'd'"
      ]
     },
     "execution_count": 56,
     "metadata": {},
     "output_type": "execute_result"
    }
   ],
   "source": [
    "f.read(1)    # 1바이트 읽기"
   ]
  }
 ],
 "metadata": {
  "kernelspec": {
   "display_name": "Python 3",
   "language": "python",
   "name": "python3"
  },
  "language_info": {
   "codemirror_mode": {
    "name": "ipython",
    "version": 3
   },
   "file_extension": ".py",
   "mimetype": "text/x-python",
   "name": "python",
   "nbconvert_exporter": "python",
   "pygments_lexer": "ipython3",
   "version": "3.4.3"
  }
 },
 "nbformat": 4,
 "nbformat_minor": 0
}
