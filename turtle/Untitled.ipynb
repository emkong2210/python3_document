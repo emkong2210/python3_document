{
 "cells": [
  {
   "cell_type": "markdown",
   "metadata": {},
   "source": [
    "# 터틀\n",
    "```python\n",
    "import turtle\n",
    "```\n",
    "### 주요 명령어\n",
    "* forward(distance)        : 앞으로 나아간다.\n",
    "* backward(distance)       : 뒤로 나아간다.\n",
    "* left(angle)              : 왼쪽으로 회전한다.\n",
    "* right(angle)             : 오른쪽으로 회전한다.\n",
    "* goto(x, y)               : 특정 위치로 펜이 이동한다.\n",
    "* circle(radius[, extent]) : 원을 그린다.radius는 반지름. extent는 그릴 범위를 나타냄\n",
    "* up()                     : 이동할 때 그림이 그려지지 않는다.\n",
    "* down()                   : 이동할 때 그림이 그려진다.(default)"
   ]
  }
 ],
 "metadata": {
  "kernelspec": {
   "display_name": "Python 3",
   "language": "python",
   "name": "python3"
  },
  "language_info": {
   "codemirror_mode": {
    "name": "ipython",
    "version": 3
   },
   "file_extension": ".py",
   "mimetype": "text/x-python",
   "name": "python",
   "nbconvert_exporter": "python",
   "pygments_lexer": "ipython3",
   "version": "3.4.3"
  }
 },
 "nbformat": 4,
 "nbformat_minor": 0
}
